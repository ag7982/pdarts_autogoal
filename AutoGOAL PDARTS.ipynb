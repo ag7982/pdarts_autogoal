{
 "cells": [
  {
   "cell_type": "code",
   "execution_count": 2,
   "id": "1f469510",
   "metadata": {},
   "outputs": [],
   "source": [
    "from torchvision.datasets import CIFAR10, MNIST\n",
    "\n",
    "from autogoal.grammar import generate_cfg\n",
    "from autogoal.search import RandomSearch, PESearch, RichLogger\n",
    "\n",
    "from pdarts_autogoal.pipeline import Pipeline\n",
    "from pdarts_autogoal.pdarts.genotypes import Genotype\n"
   ]
  },
  {
   "cell_type": "code",
   "execution_count": 3,
   "id": "7af93c01",
   "metadata": {},
   "outputs": [],
   "source": [
    "grammar = generate_cfg(Pipeline)"
   ]
  },
  {
   "cell_type": "code",
   "execution_count": 19,
   "id": "6e68cc23",
   "metadata": {},
   "outputs": [],
   "source": [
    "train_data = MNIST(\n",
    "    root='./data', train=True, download=True\n",
    ")\n",
    "\n",
    "val_data = MNIST(\n",
    "    root='./data', train=False, download=True\n",
    ")"
   ]
  },
  {
   "cell_type": "code",
   "execution_count": 20,
   "id": "d61d4107",
   "metadata": {},
   "outputs": [],
   "source": [
    "def evaluate(candidate):\n",
    "    v, _ = candidate.fit(train_data, val_data)\n",
    "    return v"
   ]
  },
  {
   "cell_type": "code",
   "execution_count": null,
   "id": "1c98bd8a",
   "metadata": {},
   "outputs": [
    {
     "data": {
      "application/vnd.jupyter.widget-view+json": {
       "model_id": "e9cfb7addf9f4f48a794a6285ae32e10",
       "version_major": 2,
       "version_minor": 0
      },
      "text/plain": [
       "Output()"
      ]
     },
     "metadata": {},
     "output_type": "display_data"
    },
    {
     "data": {
      "text/html": [
       "<pre style=\"white-space:pre;overflow-x:auto;line-height:normal;font-family:Menlo,'DejaVu Sans Mono',consolas,'Courier New',monospace\"><span style=\"color: #000080\">────────────────────────────────────── </span>Search starting<span style=\"color: #000080\"> ──────────────────────────────────────</span>\n",
       "</pre>\n"
      ],
      "text/plain": [
       "<rich.jupyter.JupyterRenderable at 0x14d172e62bb0>"
      ]
     },
     "metadata": {},
     "output_type": "display_data"
    },
    {
     "data": {
      "text/html": [
       "<pre style=\"white-space:pre;overflow-x:auto;line-height:normal;font-family:Menlo,'DejaVu Sans Mono',consolas,'Courier New',monospace\"><span style=\"color: #00ff00\">──────────────────────────────────── </span>Evaluating pipeline<span style=\"color: #00ff00\"> ────────────────────────────────────</span>\n",
       "</pre>\n"
      ],
      "text/plain": [
       "<rich.jupyter.JupyterRenderable at 0x14d01ccd2820>"
      ]
     },
     "metadata": {},
     "output_type": "display_data"
    },
    {
     "data": {
      "text/html": [
       "<pre style=\"white-space:pre;overflow-x:auto;line-height:normal;font-family:Menlo,'DejaVu Sans Mono',consolas,'Courier New',monospace\">Pipeline<span style=\"font-weight: bold\">(</span>\n",
       "    <span style=\"color: #808000; font-style: italic\">preprocessing</span>=<span style=\"color: #800080\">Preprocessor</span><span style=\"font-weight: bold\">(</span>\n",
       "        <span style=\"color: #808000; font-style: italic\">blur</span>=<span style=\"color: #800080\">GaussianBlur</span><span style=\"font-weight: bold\">(</span>\n",
       "            <span style=\"color: #808000; font-style: italic\">kernel_size</span>=<span style=\"font-weight: bold\">(</span><span style=\"color: #000080; font-weight: bold\">41</span>, <span style=\"color: #000080; font-weight: bold\">41</span><span style=\"font-weight: bold\">)</span>, <span style=\"color: #808000; font-style: italic\">sigma</span>=<span style=\"font-weight: bold\">(</span><span style=\"color: #000080; font-weight: bold\">0.33546901258849204</span>, <span style=\"color: #000080; font-weight: bold\">0.33546901258849204</span><span style=\"font-weight: bold\">)</span>\n",
       "        <span style=\"font-weight: bold\">)</span>,\n",
       "        <span style=\"color: #808000; font-style: italic\">affine</span>=<span style=\"color: #800080\">RandomAffine</span><span style=\"font-weight: bold\">(</span>\n",
       "            <span style=\"color: #808000; font-style: italic\">degrees</span>=<span style=\"font-weight: bold\">[</span><span style=\"color: #000080; font-weight: bold\">-82.93353420886409</span>, <span style=\"color: #000080; font-weight: bold\">82.93353420886409</span><span style=\"font-weight: bold\">]</span>,\n",
       "            <span style=\"color: #808000; font-style: italic\">translate</span>=<span style=\"font-weight: bold\">(</span><span style=\"color: #000080; font-weight: bold\">0.5591014236387584</span>, <span style=\"color: #000080; font-weight: bold\">1</span><span style=\"font-weight: bold\">)</span>,\n",
       "            <span style=\"color: #808000; font-style: italic\">scale</span>=<span style=\"font-weight: bold\">(</span><span style=\"color: #000080; font-weight: bold\">0.1</span>, <span style=\"color: #000080; font-weight: bold\">10.1</span><span style=\"font-weight: bold\">)</span>,\n",
       "            <span style=\"color: #808000; font-style: italic\">shear</span>=<span style=\"font-weight: bold\">[</span><span style=\"color: #000080; font-weight: bold\">-360.0</span>, <span style=\"color: #000080; font-weight: bold\">360.0</span><span style=\"font-weight: bold\">]</span>,\n",
       "        <span style=\"font-weight: bold\">)</span>,\n",
       "        <span style=\"color: #808000; font-style: italic\">h_flip</span>=<span style=\"color: #800080\">RandomHorizontalFlip</span><span style=\"font-weight: bold\">(</span><span style=\"color: #808000; font-style: italic\">p</span>=<span style=\"color: #000080; font-weight: bold\">1</span><span style=\"font-weight: bold\">)</span>,\n",
       "        <span style=\"color: #808000; font-style: italic\">v_flip</span>=<span style=\"color: #800080\">RandomVerticalFlip</span><span style=\"font-weight: bold\">(</span><span style=\"color: #808000; font-style: italic\">p</span>=<span style=\"color: #000080; font-weight: bold\">1</span><span style=\"font-weight: bold\">)</span>,\n",
       "        <span style=\"color: #808000; font-style: italic\">cutout</span>=<span style=\"color: #800080\">RandomErasing</span><span style=\"font-weight: bold\">()</span>,\n",
       "        <span style=\"color: #808000; font-style: italic\">jitter</span>=<span style=\"color: #800080\">ColorJitter</span><span style=\"font-weight: bold\">(</span>\n",
       "            <span style=\"color: #808000; font-style: italic\">brightness</span>=<span style=\"font-weight: bold\">[</span><span style=\"color: #000080; font-weight: bold\">0.0</span>, <span style=\"color: #000080; font-weight: bold\">14.359575536144629</span><span style=\"font-weight: bold\">]</span>,\n",
       "            <span style=\"color: #808000; font-style: italic\">contrast</span>=<span style=\"color: #800080; font-style: italic\">None</span>,\n",
       "            <span style=\"color: #808000; font-style: italic\">saturation</span>=<span style=\"font-weight: bold\">[</span><span style=\"color: #000080; font-weight: bold\">0.0</span>, <span style=\"color: #000080; font-weight: bold\">15.166827240413014</span><span style=\"font-weight: bold\">]</span>,\n",
       "            <span style=\"color: #808000; font-style: italic\">hue</span>=<span style=\"color: #800080; font-style: italic\">None</span>,\n",
       "        <span style=\"font-weight: bold\">)</span>,\n",
       "        <span style=\"color: #808000; font-style: italic\">norm</span>=<span style=\"color: #ff0000; font-style: italic\">False</span>,\n",
       "        <span style=\"color: #808000; font-style: italic\">crop</span>=<span style=\"color: #00ff00; font-style: italic\">True</span>,\n",
       "    <span style=\"font-weight: bold\">)</span>,\n",
       "    <span style=\"color: #808000; font-style: italic\">pdarts</span>=<span style=\"color: #800080\">PDarts</span><span style=\"font-weight: bold\">(</span>\n",
       "        <span style=\"color: #808000; font-style: italic\">momentum</span>=<span style=\"color: #000080; font-weight: bold\">0.8605221938140586</span>,\n",
       "        <span style=\"color: #808000; font-style: italic\">weight_decay</span>=<span style=\"color: #000080; font-weight: bold\">0.0025878295772742152</span>,\n",
       "        <span style=\"color: #808000; font-style: italic\">arch_weight_decay</span>=<span style=\"color: #000080; font-weight: bold\">0.000199676805988584</span>,\n",
       "        <span style=\"color: #808000; font-style: italic\">epochs</span>=<span style=\"color: #000080; font-weight: bold\">10</span>,\n",
       "        <span style=\"color: #808000; font-style: italic\">warmup_epochs</span>=<span style=\"color: #000080; font-weight: bold\">6</span>,\n",
       "        <span style=\"color: #808000; font-style: italic\">init_channels</span>=<span style=\"color: #000080; font-weight: bold\">32</span>,\n",
       "        <span style=\"color: #808000; font-style: italic\">layers</span>=<span style=\"color: #000080; font-weight: bold\">2</span>,\n",
       "        <span style=\"color: #808000; font-style: italic\">grad_clip</span>=<span style=\"color: #000080; font-weight: bold\">0.9160838219292066</span>,\n",
       "        <span style=\"color: #808000; font-style: italic\">dropout_rate</span>=<span style=\"color: #000080; font-weight: bold\">0.0</span>,\n",
       "        <span style=\"color: #808000; font-style: italic\">arch_dropout_rate</span>=<span style=\"color: #000080; font-weight: bold\">1.0</span>,\n",
       "        <span style=\"color: #808000; font-style: italic\">learning_rate</span>=<span style=\"color: #000080; font-weight: bold\">0.1</span>,\n",
       "        <span style=\"color: #808000; font-style: italic\">arch_learning_rate</span>=<span style=\"color: #000080; font-weight: bold\">0.1</span>,\n",
       "        <span style=\"color: #808000; font-style: italic\">learning_rate_min</span>=<span style=\"color: #000080; font-weight: bold\">0.0001</span>,\n",
       "    <span style=\"font-weight: bold\">)</span>,\n",
       "    <span style=\"color: #808000; font-style: italic\">batch_size</span>=<span style=\"color: #000080; font-weight: bold\">87</span>,\n",
       "<span style=\"font-weight: bold\">)</span>\n",
       "</pre>\n"
      ],
      "text/plain": [
       "<rich.jupyter.JupyterRenderable at 0x14d01e02fa00>"
      ]
     },
     "metadata": {},
     "output_type": "display_data"
    },
    {
     "name": "stdout",
     "output_type": "stream",
     "text": [
      "[Grayscale(num_output_channels=3), GaussianBlur(kernel_size=(41, 41), sigma=(0.33546901258849204, 0.33546901258849204)), RandomHorizontalFlip(p=1), ColorJitter(brightness=[0.0, 14.359575536144629], contrast=None, saturation=[0.0, 15.166827240413014], hue=None), ToTensor(), RandomErasing()]\n",
      "epoch_duration=237.6641125679016: epoch=0 train_acc=83.61166583151817\n",
      "epoch_duration=237.60867357254028: epoch=1 train_acc=90.33499917755127\n",
      "epoch_duration=238.19099187850952: epoch=2 train_acc=91.83999907188415\n",
      "epoch_duration=237.84740233421326: epoch=3 train_acc=93.69499834709167\n",
      "epoch_duration=238.04298877716064: epoch=4 train_acc=95.49499793319703\n",
      "epoch_duration=273.564120054245: epoch=0 train_acc=84.50833267922401\n",
      "epoch_duration=273.26553678512573: epoch=1 train_acc=90.79999916114807\n",
      "epoch_duration=272.39336466789246: epoch=2 train_acc=92.35999888458252\n",
      "epoch_duration=273.9261453151703: epoch=3 train_acc=94.34499806289674\n",
      "epoch_duration=273.8846859931946: epoch=4 train_acc=96.03999768257141\n",
      "epoch_duration=244.83993530273438: epoch=0 train_acc=85.07499918696881\n",
      "epoch_duration=245.0810582637787: epoch=1 train_acc=90.87166591453553\n",
      "epoch_duration=244.2283754348755: epoch=2 train_acc=92.42333205909729\n",
      "epoch_duration=244.39563488960266: epoch=3 train_acc=94.12166478042603\n",
      "epoch_duration=244.33173775672913: epoch=4 train_acc=95.87333093490601\n",
      "Genotype(normal=[('skip_connect', 0), ('dil_conv_3x3', 0), ('max_pool_3x3', 1), ('sep_conv_3x3', 1), ('skip_connect', 0), ('sep_conv_7x7', 0), ('avg_pool_3x3', 2), ('sep_conv_5x5', 2), ('dil_conv_3x3', 0), ('dil_conv_5x5', 0), ('sep_conv_3x3', 2), ('sep_conv_7x7', 2), ('avg_pool_3x3', 2), ('dil_conv_3x3', 2), ('skip_connect', 4), ('dil_conv_5x5', 4)], normal_concat=range(2, 6), reduce=[('max_pool_3x3', 0), ('sep_conv_5x5', 0), ('sep_conv_3x3', 1), ('sep_conv_5x5', 1), ('avg_pool_3x3', 0), ('dil_conv_3x3', 0), ('none', 1), ('sep_conv_7x7', 1), ('avg_pool_3x3', 1), ('sep_conv_7x7', 1), ('avg_pool_3x3', 2), ('dil_conv_5x5', 2), ('skip_connect', 1), ('sep_conv_3x3', 1), ('skip_connect', 2), ('sep_conv_5x5', 2)], reduce_concat=range(2, 6))\n"
     ]
    },
    {
     "data": {
      "text/html": [
       "<pre style=\"white-space:pre;overflow-x:auto;line-height:normal;font-family:Menlo,'DejaVu Sans Mono',consolas,'Courier New',monospace\">╭───────────────────────────────────────────────────────────────────────────────────────────╮\n",
       "│📈 Fitness=<span style=\"color: #000080\">35.960</span>                                                                          │\n",
       "╰───────────────────────────────────────────────────────────────────────────────────────────╯\n",
       "</pre>\n"
      ],
      "text/plain": [
       "<rich.jupyter.JupyterRenderable at 0x14d01e01d850>"
      ]
     },
     "metadata": {},
     "output_type": "display_data"
    },
    {
     "data": {
      "text/html": [
       "<pre style=\"white-space:pre;overflow-x:auto;line-height:normal;font-family:Menlo,'DejaVu Sans Mono',consolas,'Courier New',monospace\">╭───────────────────────────────────────────────────────────────────────────────────────────╮\n",
       "│🔥 Best improved from <span style=\"color: #800000; font-weight: bold\">0.000</span> to <span style=\"color: #008000; font-weight: bold\">35.960</span>                                                      │\n",
       "╰───────────────────────────────────────────────────────────────────────────────────────────╯\n",
       "</pre>\n"
      ],
      "text/plain": [
       "<rich.jupyter.JupyterRenderable at 0x14d01e01d5e0>"
      ]
     },
     "metadata": {},
     "output_type": "display_data"
    },
    {
     "data": {
      "text/html": [
       "<pre style=\"white-space:pre;overflow-x:auto;line-height:normal;font-family:Menlo,'DejaVu Sans Mono',consolas,'Courier New',monospace\"><span style=\"color: #00ff00\">──────────────────────────────────── </span>Evaluating pipeline<span style=\"color: #00ff00\"> ────────────────────────────────────</span>\n",
       "</pre>\n"
      ],
      "text/plain": [
       "<rich.jupyter.JupyterRenderable at 0x14d01e019310>"
      ]
     },
     "metadata": {},
     "output_type": "display_data"
    },
    {
     "data": {
      "text/html": [
       "<pre style=\"white-space:pre;overflow-x:auto;line-height:normal;font-family:Menlo,'DejaVu Sans Mono',consolas,'Courier New',monospace\">Pipeline<span style=\"font-weight: bold\">(</span>\n",
       "    <span style=\"color: #808000; font-style: italic\">preprocessing</span>=<span style=\"color: #800080\">Preprocessor</span><span style=\"font-weight: bold\">(</span>\n",
       "        <span style=\"color: #808000; font-style: italic\">blur</span>=<span style=\"color: #800080\">GaussianBlur</span><span style=\"font-weight: bold\">(</span><span style=\"color: #808000; font-style: italic\">kernel_size</span>=<span style=\"font-weight: bold\">(</span><span style=\"color: #000080; font-weight: bold\">1</span>, <span style=\"color: #000080; font-weight: bold\">1</span><span style=\"font-weight: bold\">)</span>, <span style=\"color: #808000; font-style: italic\">sigma</span>=<span style=\"font-weight: bold\">(</span><span style=\"color: #000080; font-weight: bold\">2.0</span>, <span style=\"color: #000080; font-weight: bold\">2.0</span><span style=\"font-weight: bold\">))</span>,\n",
       "        <span style=\"color: #808000; font-style: italic\">affine</span>=<span style=\"color: #800080\">RandomAffine</span><span style=\"font-weight: bold\">(</span>\n",
       "            <span style=\"color: #808000; font-style: italic\">degrees</span>=<span style=\"font-weight: bold\">[</span><span style=\"color: #000080; font-weight: bold\">-360.0</span>, <span style=\"color: #000080; font-weight: bold\">360.0</span><span style=\"font-weight: bold\">]</span>,\n",
       "            <span style=\"color: #808000; font-style: italic\">translate</span>=<span style=\"font-weight: bold\">(</span><span style=\"color: #000080; font-weight: bold\">1</span>, <span style=\"color: #000080; font-weight: bold\">0.5543267922000479</span><span style=\"font-weight: bold\">)</span>,\n",
       "            <span style=\"color: #808000; font-style: italic\">scale</span>=<span style=\"font-weight: bold\">(</span><span style=\"color: #000080; font-weight: bold\">1</span>, <span style=\"color: #000080; font-weight: bold\">11</span><span style=\"font-weight: bold\">)</span>,\n",
       "            <span style=\"color: #808000; font-style: italic\">shear</span>=<span style=\"font-weight: bold\">[</span><span style=\"color: #000080; font-weight: bold\">-123.39974743891987</span>, <span style=\"color: #000080; font-weight: bold\">123.39974743891987</span><span style=\"font-weight: bold\">]</span>,\n",
       "        <span style=\"font-weight: bold\">)</span>,\n",
       "        <span style=\"color: #808000; font-style: italic\">h_flip</span>=<span style=\"color: #800080\">RandomHorizontalFlip</span><span style=\"font-weight: bold\">(</span><span style=\"color: #808000; font-style: italic\">p</span>=<span style=\"color: #000080; font-weight: bold\">1</span><span style=\"font-weight: bold\">)</span>,\n",
       "        <span style=\"color: #808000; font-style: italic\">v_flip</span>=<span style=\"color: #800080\">RandomVerticalFlip</span><span style=\"font-weight: bold\">(</span><span style=\"color: #808000; font-style: italic\">p</span>=<span style=\"color: #000080; font-weight: bold\">0.36224129699110585</span><span style=\"font-weight: bold\">)</span>,\n",
       "        <span style=\"color: #808000; font-style: italic\">cutout</span>=<span style=\"color: #800080\">RandomErasing</span><span style=\"font-weight: bold\">()</span>,\n",
       "        <span style=\"color: #808000; font-style: italic\">jitter</span>=<span style=\"color: #800080\">ColorJitter</span><span style=\"font-weight: bold\">(</span>\n",
       "            <span style=\"color: #808000; font-style: italic\">brightness</span>=<span style=\"color: #800080; font-style: italic\">None</span>,\n",
       "            <span style=\"color: #808000; font-style: italic\">contrast</span>=<span style=\"font-weight: bold\">[</span><span style=\"color: #000080; font-weight: bold\">0.0</span>, <span style=\"color: #000080; font-weight: bold\">4.462838167175536</span><span style=\"font-weight: bold\">]</span>,\n",
       "            <span style=\"color: #808000; font-style: italic\">saturation</span>=<span style=\"font-weight: bold\">[</span><span style=\"color: #000080; font-weight: bold\">0.0</span>, <span style=\"color: #000080; font-weight: bold\">21.0</span><span style=\"font-weight: bold\">]</span>,\n",
       "            <span style=\"color: #808000; font-style: italic\">hue</span>=<span style=\"font-weight: bold\">[</span><span style=\"color: #000080; font-weight: bold\">-0.22357484279526574</span>, <span style=\"color: #000080; font-weight: bold\">0.22357484279526574</span><span style=\"font-weight: bold\">]</span>,\n",
       "        <span style=\"font-weight: bold\">)</span>,\n",
       "        <span style=\"color: #808000; font-style: italic\">norm</span>=<span style=\"color: #ff0000; font-style: italic\">False</span>,\n",
       "        <span style=\"color: #808000; font-style: italic\">crop</span>=<span style=\"color: #ff0000; font-style: italic\">False</span>,\n",
       "    <span style=\"font-weight: bold\">)</span>,\n",
       "    <span style=\"color: #808000; font-style: italic\">pdarts</span>=<span style=\"color: #800080\">PDarts</span><span style=\"font-weight: bold\">(</span>\n",
       "        <span style=\"color: #808000; font-style: italic\">momentum</span>=<span style=\"color: #000080; font-weight: bold\">0.20031667173372353</span>,\n",
       "        <span style=\"color: #808000; font-style: italic\">weight_decay</span>=<span style=\"color: #000080; font-weight: bold\">3e-10</span>,\n",
       "        <span style=\"color: #808000; font-style: italic\">arch_weight_decay</span>=<span style=\"color: #000080; font-weight: bold\">0.0009688296666497689</span>,\n",
       "        <span style=\"color: #808000; font-style: italic\">epochs</span>=<span style=\"color: #000080; font-weight: bold\">10</span>,\n",
       "        <span style=\"color: #808000; font-style: italic\">warmup_epochs</span>=<span style=\"color: #000080; font-weight: bold\">7</span>,\n",
       "        <span style=\"color: #808000; font-style: italic\">init_channels</span>=<span style=\"color: #000080; font-weight: bold\">27</span>,\n",
       "        <span style=\"color: #808000; font-style: italic\">layers</span>=<span style=\"color: #000080; font-weight: bold\">3</span>,\n",
       "        <span style=\"color: #808000; font-style: italic\">grad_clip</span>=<span style=\"color: #000080; font-weight: bold\">1.0</span>,\n",
       "        <span style=\"color: #808000; font-style: italic\">dropout_rate</span>=<span style=\"color: #000080; font-weight: bold\">0.8</span>,\n",
       "        <span style=\"color: #808000; font-style: italic\">arch_dropout_rate</span>=<span style=\"color: #000080; font-weight: bold\">0.0</span>,\n",
       "        <span style=\"color: #808000; font-style: italic\">learning_rate</span>=<span style=\"color: #000080; font-weight: bold\">0.0001</span>,\n",
       "        <span style=\"color: #808000; font-style: italic\">arch_learning_rate</span>=<span style=\"color: #000080; font-weight: bold\">0.0001</span>,\n",
       "        <span style=\"color: #808000; font-style: italic\">learning_rate_min</span>=<span style=\"color: #000080; font-weight: bold\">0.0001</span>,\n",
       "    <span style=\"font-weight: bold\">)</span>,\n",
       "    <span style=\"color: #808000; font-style: italic\">batch_size</span>=<span style=\"color: #000080; font-weight: bold\">82</span>,\n",
       "<span style=\"font-weight: bold\">)</span>\n",
       "</pre>\n"
      ],
      "text/plain": [
       "<rich.jupyter.JupyterRenderable at 0x14d01e01dbb0>"
      ]
     },
     "metadata": {},
     "output_type": "display_data"
    },
    {
     "name": "stdout",
     "output_type": "stream",
     "text": [
      "[Grayscale(num_output_channels=3), GaussianBlur(kernel_size=(1, 1), sigma=(2.0, 2.0)), RandomHorizontalFlip(p=1), RandomVerticalFlip(p=0.36224129699110585), ColorJitter(brightness=None, contrast=[0.0, 4.462838167175536], saturation=[0.0, 21.0], hue=[-0.22357484279526574, 0.22357484279526574]), ToTensor()]\n",
      "epoch_duration=360.4609065055847: epoch=0 train_acc=14.613333634146054\n",
      "epoch_duration=360.6272122859955: epoch=1 train_acc=22.21000042347908\n",
      "epoch_duration=360.46825981140137: epoch=2 train_acc=25.453333879884084\n",
      "epoch_duration=361.46437215805054: epoch=3 train_acc=27.206667309125265\n",
      "epoch_duration=359.38837218284607: epoch=4 train_acc=28.731667393143972\n",
      "epoch_duration=304.78738832473755: epoch=0 train_acc=16.00833367067973\n",
      "epoch_duration=304.0731420516968: epoch=1 train_acc=21.585000425195695\n",
      "epoch_duration=304.57773876190186: epoch=2 train_acc=24.755000492445628\n",
      "epoch_duration=304.610737323761: epoch=3 train_acc=28.076667321332295\n",
      "epoch_duration=303.47170996665955: epoch=4 train_acc=30.885000764783225\n",
      "epoch_duration=260.82871437072754: epoch=0 train_acc=11.091666869584719\n",
      "epoch_duration=261.0081698894501: epoch=1 train_acc=21.20000045030912\n",
      "epoch_duration=261.3507227897644: epoch=2 train_acc=26.603333955351513\n",
      "epoch_duration=260.6128318309784: epoch=3 train_acc=29.978334081904094\n",
      "epoch_duration=260.04924511909485: epoch=4 train_acc=32.40666745313008\n",
      "Genotype(normal=[('avg_pool_3x3', 0), ('dil_conv_3x3', 0), ('avg_pool_3x3', 1), ('sep_conv_5x5', 1), ('max_pool_3x3', 0), ('sep_conv_5x5', 0), ('sep_conv_5x5', 1), ('dil_conv_5x5', 1), ('sep_conv_3x3', 0), ('dil_conv_5x5', 0), ('sep_conv_7x7', 1), ('dil_conv_5x5', 1), ('max_pool_3x3', 0), ('sep_conv_5x5', 0), ('none', 2), ('avg_pool_3x3', 2)], normal_concat=range(2, 6), reduce=[('sep_conv_7x7', 0), ('dil_conv_5x5', 0), ('avg_pool_3x3', 1), ('sep_conv_5x5', 1), ('sep_conv_7x7', 0), ('dil_conv_5x5', 0), ('avg_pool_3x3', 2), ('sep_conv_5x5', 2), ('sep_conv_3x3', 1), ('sep_conv_5x5', 1), ('avg_pool_3x3', 2), ('max_pool_3x3', 2), ('sep_conv_3x3', 1), ('dil_conv_5x5', 1), ('none', 4), ('avg_pool_3x3', 4)], reduce_concat=range(2, 6))\n"
     ]
    },
    {
     "data": {
      "text/html": [
       "<pre style=\"white-space:pre;overflow-x:auto;line-height:normal;font-family:Menlo,'DejaVu Sans Mono',consolas,'Courier New',monospace\">╭───────────────────────────────────────────────────────────────────────────────────────────╮\n",
       "│📈 Fitness=<span style=\"color: #000080\">22.750</span>                                                                          │\n",
       "╰───────────────────────────────────────────────────────────────────────────────────────────╯\n",
       "</pre>\n"
      ],
      "text/plain": [
       "<rich.jupyter.JupyterRenderable at 0x14d01dfca160>"
      ]
     },
     "metadata": {},
     "output_type": "display_data"
    },
    {
     "data": {
      "text/html": [
       "<pre style=\"white-space:pre;overflow-x:auto;line-height:normal;font-family:Menlo,'DejaVu Sans Mono',consolas,'Courier New',monospace\"><span style=\"color: #00ff00\">──────────────────────────────────── </span>Evaluating pipeline<span style=\"color: #00ff00\"> ────────────────────────────────────</span>\n",
       "</pre>\n"
      ],
      "text/plain": [
       "<rich.jupyter.JupyterRenderable at 0x14d01e02adf0>"
      ]
     },
     "metadata": {},
     "output_type": "display_data"
    },
    {
     "data": {
      "text/html": [
       "<pre style=\"white-space:pre;overflow-x:auto;line-height:normal;font-family:Menlo,'DejaVu Sans Mono',consolas,'Courier New',monospace\">Pipeline<span style=\"font-weight: bold\">(</span>\n",
       "    <span style=\"color: #808000; font-style: italic\">preprocessing</span>=<span style=\"color: #800080\">Preprocessor</span><span style=\"font-weight: bold\">(</span>\n",
       "        <span style=\"color: #808000; font-style: italic\">blur</span>=<span style=\"color: #800080\">GaussianBlur</span><span style=\"font-weight: bold\">(</span>\n",
       "            <span style=\"color: #808000; font-style: italic\">kernel_size</span>=<span style=\"font-weight: bold\">(</span><span style=\"color: #000080; font-weight: bold\">41</span>, <span style=\"color: #000080; font-weight: bold\">41</span><span style=\"font-weight: bold\">)</span>, <span style=\"color: #808000; font-style: italic\">sigma</span>=<span style=\"font-weight: bold\">(</span><span style=\"color: #000080; font-weight: bold\">1.433436052549879</span>, <span style=\"color: #000080; font-weight: bold\">1.433436052549879</span><span style=\"font-weight: bold\">)</span>\n",
       "        <span style=\"font-weight: bold\">)</span>,\n",
       "        <span style=\"color: #808000; font-style: italic\">affine</span>=<span style=\"color: #800080\">RandomAffine</span><span style=\"font-weight: bold\">(</span>\n",
       "            <span style=\"color: #808000; font-style: italic\">degrees</span>=<span style=\"font-weight: bold\">[</span><span style=\"color: #000080; font-weight: bold\">-111.31395069327293</span>, <span style=\"color: #000080; font-weight: bold\">111.31395069327293</span><span style=\"font-weight: bold\">]</span>,\n",
       "            <span style=\"color: #808000; font-style: italic\">translate</span>=<span style=\"font-weight: bold\">(</span><span style=\"color: #000080; font-weight: bold\">0</span>, <span style=\"color: #000080; font-weight: bold\">1</span><span style=\"font-weight: bold\">)</span>,\n",
       "            <span style=\"color: #808000; font-style: italic\">scale</span>=<span style=\"font-weight: bold\">(</span><span style=\"color: #000080; font-weight: bold\">0.1</span>, <span style=\"color: #000080; font-weight: bold\">1.1</span><span style=\"font-weight: bold\">)</span>,\n",
       "            <span style=\"color: #808000; font-style: italic\">shear</span>=<span style=\"font-weight: bold\">[</span><span style=\"color: #000080; font-weight: bold\">0.0</span>, <span style=\"color: #000080; font-weight: bold\">0.0</span><span style=\"font-weight: bold\">]</span>,\n",
       "        <span style=\"font-weight: bold\">)</span>,\n",
       "        <span style=\"color: #808000; font-style: italic\">h_flip</span>=<span style=\"color: #800080\">RandomHorizontalFlip</span><span style=\"font-weight: bold\">(</span><span style=\"color: #808000; font-style: italic\">p</span>=<span style=\"color: #000080; font-weight: bold\">0</span><span style=\"font-weight: bold\">)</span>,\n",
       "        <span style=\"color: #808000; font-style: italic\">v_flip</span>=<span style=\"color: #800080\">RandomVerticalFlip</span><span style=\"font-weight: bold\">(</span><span style=\"color: #808000; font-style: italic\">p</span>=<span style=\"color: #000080; font-weight: bold\">1</span><span style=\"font-weight: bold\">)</span>,\n",
       "        <span style=\"color: #808000; font-style: italic\">cutout</span>=<span style=\"color: #800080\">RandomErasing</span><span style=\"font-weight: bold\">()</span>,\n",
       "        <span style=\"color: #808000; font-style: italic\">jitter</span>=<span style=\"color: #800080\">ColorJitter</span><span style=\"font-weight: bold\">(</span><span style=\"color: #808000; font-style: italic\">brightness</span>=<span style=\"color: #800080; font-style: italic\">None</span>, <span style=\"color: #808000; font-style: italic\">contrast</span>=<span style=\"color: #800080; font-style: italic\">None</span>, <span style=\"color: #808000; font-style: italic\">saturation</span>=<span style=\"color: #800080; font-style: italic\">None</span>, <span style=\"color: #808000; font-style: italic\">hue</span>=<span style=\"color: #800080; font-style: italic\">None</span><span style=\"font-weight: bold\">)</span>,\n",
       "        <span style=\"color: #808000; font-style: italic\">norm</span>=<span style=\"color: #ff0000; font-style: italic\">False</span>,\n",
       "        <span style=\"color: #808000; font-style: italic\">crop</span>=<span style=\"color: #ff0000; font-style: italic\">False</span>,\n",
       "    <span style=\"font-weight: bold\">)</span>,\n",
       "    <span style=\"color: #808000; font-style: italic\">pdarts</span>=<span style=\"color: #800080\">PDarts</span><span style=\"font-weight: bold\">(</span>\n",
       "        <span style=\"color: #808000; font-style: italic\">momentum</span>=<span style=\"color: #000080; font-weight: bold\">1.0</span>,\n",
       "        <span style=\"color: #808000; font-style: italic\">weight_decay</span>=<span style=\"color: #000080; font-weight: bold\">3e-10</span>,\n",
       "        <span style=\"color: #808000; font-style: italic\">arch_weight_decay</span>=<span style=\"color: #000080; font-weight: bold\">3e-10</span>,\n",
       "        <span style=\"color: #808000; font-style: italic\">epochs</span>=<span style=\"color: #000080; font-weight: bold\">25</span>,\n",
       "        <span style=\"color: #808000; font-style: italic\">warmup_epochs</span>=<span style=\"color: #000080; font-weight: bold\">10</span>,\n",
       "        <span style=\"color: #808000; font-style: italic\">init_channels</span>=<span style=\"color: #000080; font-weight: bold\">8</span>,\n",
       "        <span style=\"color: #808000; font-style: italic\">layers</span>=<span style=\"color: #000080; font-weight: bold\">3</span>,\n",
       "        <span style=\"color: #808000; font-style: italic\">grad_clip</span>=<span style=\"color: #000080; font-weight: bold\">-0.5122296507872433</span>,\n",
       "        <span style=\"color: #808000; font-style: italic\">dropout_rate</span>=<span style=\"color: #000080; font-weight: bold\">0.8</span>,\n",
       "        <span style=\"color: #808000; font-style: italic\">arch_dropout_rate</span>=<span style=\"color: #000080; font-weight: bold\">0.19082828899315724</span>,\n",
       "        <span style=\"color: #808000; font-style: italic\">learning_rate</span>=<span style=\"color: #000080; font-weight: bold\">0.0001</span>,\n",
       "        <span style=\"color: #808000; font-style: italic\">arch_learning_rate</span>=<span style=\"color: #000080; font-weight: bold\">0.0913241820326673</span>,\n",
       "        <span style=\"color: #808000; font-style: italic\">learning_rate_min</span>=<span style=\"color: #000080; font-weight: bold\">0.01</span>,\n",
       "    <span style=\"font-weight: bold\">)</span>,\n",
       "    <span style=\"color: #808000; font-style: italic\">batch_size</span>=<span style=\"color: #000080; font-weight: bold\">91</span>,\n",
       "<span style=\"font-weight: bold\">)</span>\n",
       "</pre>\n"
      ],
      "text/plain": [
       "<rich.jupyter.JupyterRenderable at 0x14d0210b9340>"
      ]
     },
     "metadata": {},
     "output_type": "display_data"
    },
    {
     "name": "stdout",
     "output_type": "stream",
     "text": [
      "[Grayscale(num_output_channels=3), RandomAffine(degrees=[-111.31395069327293, 111.31395069327293], translate=(0, 1), scale=(0.1, 1.1), shear=[0.0, 0.0]), RandomHorizontalFlip(p=0), ToTensor(), RandomErasing()]\n",
      "epoch_duration=203.7228763103485: epoch=0 train_acc=8.81000031850934\n",
      "epoch_duration=204.30678296089172: epoch=1 train_acc=8.79166699555119\n",
      "epoch_duration=204.58474922180176: epoch=2 train_acc=8.133333641652266\n",
      "epoch_duration=204.48604345321655: epoch=3 train_acc=7.4933336283405625\n",
      "epoch_duration=203.84754967689514: epoch=4 train_acc=6.938333604190747\n",
      "epoch_duration=171.09912633895874: epoch=0 train_acc=9.028333666938543\n",
      "epoch_duration=170.7624170780182: epoch=1 train_acc=9.146667020354668\n",
      "epoch_duration=170.92168998718262: epoch=2 train_acc=9.133333684130509\n",
      "epoch_duration=172.02742266654968: epoch=3 train_acc=8.740000339416662\n",
      "epoch_duration=171.2205901145935: epoch=4 train_acc=8.943333679002523\n",
      "epoch_duration=139.7080521583557: epoch=0 train_acc=9.868333706021309\n",
      "epoch_duration=140.6593210697174: epoch=1 train_acc=9.956667040751377\n",
      "epoch_duration=140.83054041862488: epoch=2 train_acc=9.915000405997038\n",
      "epoch_duration=139.9604208469391: epoch=3 train_acc=9.858333709079027\n",
      "epoch_duration=140.48482584953308: epoch=4 train_acc=9.988333710801601\n",
      "Genotype(normal=[('skip_connect', 0), ('sep_conv_5x5', 0), ('avg_pool_3x3', 1), ('max_pool_3x3', 1), ('max_pool_3x3', 1), ('sep_conv_7x7', 1), ('skip_connect', 2), ('sep_conv_7x7', 2), ('avg_pool_3x3', 1), ('sep_conv_7x7', 1), ('none', 3), ('sep_conv_7x7', 3), ('skip_connect', 0), ('sep_conv_3x3', 0), ('avg_pool_3x3', 2), ('sep_conv_3x3', 2)], normal_concat=range(2, 6), reduce=[('max_pool_3x3', 0), ('skip_connect', 0), ('skip_connect', 1), ('dil_conv_5x5', 1), ('avg_pool_3x3', 1), ('sep_conv_7x7', 1), ('sep_conv_5x5', 2), ('dil_conv_5x5', 2), ('avg_pool_3x3', 0), ('dil_conv_5x5', 0), ('skip_connect', 1), ('sep_conv_3x3', 1), ('sep_conv_7x7', 2), ('dil_conv_5x5', 2), ('sep_conv_5x5', 3), ('dil_conv_5x5', 3)], reduce_concat=range(2, 6))\n"
     ]
    },
    {
     "data": {
      "text/html": [
       "<pre style=\"white-space:pre;overflow-x:auto;line-height:normal;font-family:Menlo,'DejaVu Sans Mono',consolas,'Courier New',monospace\">╭───────────────────────────────────────────────────────────────────────────────────────────╮\n",
       "│📈 Fitness=<span style=\"color: #000080\">10.100</span>                                                                          │\n",
       "╰───────────────────────────────────────────────────────────────────────────────────────────╯\n",
       "</pre>\n"
      ],
      "text/plain": [
       "<rich.jupyter.JupyterRenderable at 0x14d01dfc66d0>"
      ]
     },
     "metadata": {},
     "output_type": "display_data"
    },
    {
     "data": {
      "text/html": [
       "<pre style=\"white-space:pre;overflow-x:auto;line-height:normal;font-family:Menlo,'DejaVu Sans Mono',consolas,'Courier New',monospace\"><span style=\"color: #00ff00\">──────────────────────────────────── </span>Evaluating pipeline<span style=\"color: #00ff00\"> ────────────────────────────────────</span>\n",
       "</pre>\n"
      ],
      "text/plain": [
       "<rich.jupyter.JupyterRenderable at 0x14d01df81190>"
      ]
     },
     "metadata": {},
     "output_type": "display_data"
    },
    {
     "data": {
      "text/html": [
       "<pre style=\"white-space:pre;overflow-x:auto;line-height:normal;font-family:Menlo,'DejaVu Sans Mono',consolas,'Courier New',monospace\">Pipeline<span style=\"font-weight: bold\">(</span>\n",
       "    <span style=\"color: #808000; font-style: italic\">preprocessing</span>=<span style=\"color: #800080\">Preprocessor</span><span style=\"font-weight: bold\">(</span>\n",
       "        <span style=\"color: #808000; font-style: italic\">blur</span>=<span style=\"color: #800080\">GaussianBlur</span><span style=\"font-weight: bold\">(</span><span style=\"color: #808000; font-style: italic\">kernel_size</span>=<span style=\"font-weight: bold\">(</span><span style=\"color: #000080; font-weight: bold\">41</span>, <span style=\"color: #000080; font-weight: bold\">41</span><span style=\"font-weight: bold\">)</span>, <span style=\"color: #808000; font-style: italic\">sigma</span>=<span style=\"font-weight: bold\">(</span><span style=\"color: #000080; font-weight: bold\">0.1</span>, <span style=\"color: #000080; font-weight: bold\">0.1</span><span style=\"font-weight: bold\">))</span>,\n",
       "        <span style=\"color: #808000; font-style: italic\">affine</span>=<span style=\"color: #800080\">RandomAffine</span><span style=\"font-weight: bold\">(</span>\n",
       "            <span style=\"color: #808000; font-style: italic\">degrees</span>=<span style=\"font-weight: bold\">[</span><span style=\"color: #000080; font-weight: bold\">0.0</span>, <span style=\"color: #000080; font-weight: bold\">0.0</span><span style=\"font-weight: bold\">]</span>,\n",
       "            <span style=\"color: #808000; font-style: italic\">translate</span>=<span style=\"font-weight: bold\">(</span><span style=\"color: #000080; font-weight: bold\">1</span>, <span style=\"color: #000080; font-weight: bold\">1</span><span style=\"font-weight: bold\">)</span>,\n",
       "            <span style=\"color: #808000; font-style: italic\">scale</span>=<span style=\"font-weight: bold\">(</span><span style=\"color: #000080; font-weight: bold\">0.1</span>, <span style=\"color: #000080; font-weight: bold\">1.1</span><span style=\"font-weight: bold\">)</span>,\n",
       "            <span style=\"color: #808000; font-style: italic\">shear</span>=<span style=\"font-weight: bold\">[</span><span style=\"color: #000080; font-weight: bold\">-360.0</span>, <span style=\"color: #000080; font-weight: bold\">360.0</span><span style=\"font-weight: bold\">]</span>,\n",
       "        <span style=\"font-weight: bold\">)</span>,\n",
       "        <span style=\"color: #808000; font-style: italic\">h_flip</span>=<span style=\"color: #800080\">RandomHorizontalFlip</span><span style=\"font-weight: bold\">(</span><span style=\"color: #808000; font-style: italic\">p</span>=<span style=\"color: #000080; font-weight: bold\">0</span><span style=\"font-weight: bold\">)</span>,\n",
       "        <span style=\"color: #808000; font-style: italic\">v_flip</span>=<span style=\"color: #800080\">RandomVerticalFlip</span><span style=\"font-weight: bold\">(</span><span style=\"color: #808000; font-style: italic\">p</span>=<span style=\"color: #000080; font-weight: bold\">0</span><span style=\"font-weight: bold\">)</span>,\n",
       "        <span style=\"color: #808000; font-style: italic\">cutout</span>=<span style=\"color: #800080\">RandomErasing</span><span style=\"font-weight: bold\">()</span>,\n",
       "        <span style=\"color: #808000; font-style: italic\">jitter</span>=<span style=\"color: #800080\">ColorJitter</span><span style=\"font-weight: bold\">(</span>\n",
       "            <span style=\"color: #808000; font-style: italic\">brightness</span>=<span style=\"font-weight: bold\">[</span><span style=\"color: #000080; font-weight: bold\">0.0</span>, <span style=\"color: #000080; font-weight: bold\">19.49870486111827</span><span style=\"font-weight: bold\">]</span>,\n",
       "            <span style=\"color: #808000; font-style: italic\">contrast</span>=<span style=\"font-weight: bold\">[</span><span style=\"color: #000080; font-weight: bold\">0.0</span>, <span style=\"color: #000080; font-weight: bold\">16.534101400663502</span><span style=\"font-weight: bold\">]</span>,\n",
       "            <span style=\"color: #808000; font-style: italic\">saturation</span>=<span style=\"font-weight: bold\">[</span><span style=\"color: #000080; font-weight: bold\">0.0</span>, <span style=\"color: #000080; font-weight: bold\">2.0410107082342783</span><span style=\"font-weight: bold\">]</span>,\n",
       "            <span style=\"color: #808000; font-style: italic\">hue</span>=<span style=\"font-weight: bold\">[</span><span style=\"color: #000080; font-weight: bold\">-0.5</span>, <span style=\"color: #000080; font-weight: bold\">0.5</span><span style=\"font-weight: bold\">]</span>,\n",
       "        <span style=\"font-weight: bold\">)</span>,\n",
       "        <span style=\"color: #808000; font-style: italic\">norm</span>=<span style=\"color: #ff0000; font-style: italic\">False</span>,\n",
       "        <span style=\"color: #808000; font-style: italic\">crop</span>=<span style=\"color: #ff0000; font-style: italic\">False</span>,\n",
       "    <span style=\"font-weight: bold\">)</span>,\n",
       "    <span style=\"color: #808000; font-style: italic\">pdarts</span>=<span style=\"color: #800080\">PDarts</span><span style=\"font-weight: bold\">(</span>\n",
       "        <span style=\"color: #808000; font-style: italic\">momentum</span>=<span style=\"color: #000080; font-weight: bold\">0.9466302301976763</span>,\n",
       "        <span style=\"color: #808000; font-style: italic\">weight_decay</span>=<span style=\"color: #000080; font-weight: bold\">3e-10</span>,\n",
       "        <span style=\"color: #808000; font-style: italic\">arch_weight_decay</span>=<span style=\"color: #000080; font-weight: bold\">0.002489745559853099</span>,\n",
       "        <span style=\"color: #808000; font-style: italic\">epochs</span>=<span style=\"color: #000080; font-weight: bold\">25</span>,\n",
       "        <span style=\"color: #808000; font-style: italic\">warmup_epochs</span>=<span style=\"color: #000080; font-weight: bold\">5</span>,\n",
       "        <span style=\"color: #808000; font-style: italic\">init_channels</span>=<span style=\"color: #000080; font-weight: bold\">8</span>,\n",
       "        <span style=\"color: #808000; font-style: italic\">layers</span>=<span style=\"color: #000080; font-weight: bold\">2</span>,\n",
       "        <span style=\"color: #808000; font-style: italic\">grad_clip</span>=<span style=\"color: #000080; font-weight: bold\">1.0</span>,\n",
       "        <span style=\"color: #808000; font-style: italic\">dropout_rate</span>=<span style=\"color: #000080; font-weight: bold\">0.286132040277642</span>,\n",
       "        <span style=\"color: #808000; font-style: italic\">arch_dropout_rate</span>=<span style=\"color: #000080; font-weight: bold\">1.0</span>,\n",
       "        <span style=\"color: #808000; font-style: italic\">learning_rate</span>=<span style=\"color: #000080; font-weight: bold\">0.03136370440522218</span>,\n",
       "        <span style=\"color: #808000; font-style: italic\">arch_learning_rate</span>=<span style=\"color: #000080; font-weight: bold\">0.1</span>,\n",
       "        <span style=\"color: #808000; font-style: italic\">learning_rate_min</span>=<span style=\"color: #000080; font-weight: bold\">0.01</span>,\n",
       "    <span style=\"font-weight: bold\">)</span>,\n",
       "    <span style=\"color: #808000; font-style: italic\">batch_size</span>=<span style=\"color: #000080; font-weight: bold\">60</span>,\n",
       "<span style=\"font-weight: bold\">)</span>\n",
       "</pre>\n"
      ],
      "text/plain": [
       "<rich.jupyter.JupyterRenderable at 0x14d01e06fcd0>"
      ]
     },
     "metadata": {},
     "output_type": "display_data"
    },
    {
     "name": "stdout",
     "output_type": "stream",
     "text": [
      "[Grayscale(num_output_channels=3), RandomAffine(degrees=[0.0, 0.0], translate=(1, 1), scale=(0.1, 1.1), shear=[-360.0, 360.0]), RandomHorizontalFlip(p=0), ToTensor(), RandomErasing()]\n",
      "epoch_duration=173.32040786743164: epoch=0 train_acc=13.611666281461716\n",
      "epoch_duration=172.1371214389801: epoch=1 train_acc=16.08999953508377\n",
      "epoch_duration=172.10102367401123: epoch=2 train_acc=17.769999488830567\n",
      "epoch_duration=172.3716697692871: epoch=3 train_acc=18.97499944281578\n",
      "epoch_duration=173.00228714942932: epoch=4 train_acc=20.351666077375413\n",
      "epoch_duration=199.3587670326233: epoch=0 train_acc=13.696666255831719\n",
      "epoch_duration=199.14180445671082: epoch=1 train_acc=16.474999528884887\n",
      "epoch_duration=198.96274304389954: epoch=2 train_acc=18.42999946284294\n",
      "epoch_duration=199.02891850471497: epoch=3 train_acc=20.001666087150575\n",
      "epoch_duration=198.55198550224304: epoch=4 train_acc=20.949999386310576\n",
      "epoch_duration=173.3505187034607: epoch=0 train_acc=13.884999617218972\n",
      "epoch_duration=173.84929132461548: epoch=1 train_acc=16.64333281850815\n",
      "epoch_duration=174.10939502716064: epoch=2 train_acc=18.373332773923874\n",
      "epoch_duration=173.20801401138306: epoch=3 train_acc=19.489999441623688\n",
      "epoch_duration=172.7301926612854: epoch=4 train_acc=20.726666067123414\n",
      "Genotype(normal=[('sep_conv_3x3', 0), ('dil_conv_3x3', 0), ('avg_pool_3x3', 1), ('sep_conv_3x3', 1), ('skip_connect', 0), ('sep_conv_3x3', 0), ('sep_conv_5x5', 2), ('sep_conv_7x7', 2), ('skip_connect', 0), ('dil_conv_3x3', 0), ('skip_connect', 1), ('sep_conv_3x3', 1), ('skip_connect', 0), ('sep_conv_7x7', 0), ('sep_conv_7x7', 2), ('dil_conv_3x3', 2)], normal_concat=range(2, 6), reduce=[('none', 0), ('avg_pool_3x3', 0), ('sep_conv_3x3', 1), ('dil_conv_3x3', 1), ('sep_conv_3x3', 0), ('dil_conv_3x3', 0), ('sep_conv_5x5', 2), ('dil_conv_3x3', 2), ('max_pool_3x3', 2), ('sep_conv_7x7', 2), ('max_pool_3x3', 3), ('skip_connect', 3), ('sep_conv_3x3', 1), ('sep_conv_5x5', 1), ('sep_conv_3x3', 3), ('sep_conv_5x5', 3)], reduce_concat=range(2, 6))\n"
     ]
    },
    {
     "data": {
      "text/html": [
       "<pre style=\"white-space:pre;overflow-x:auto;line-height:normal;font-family:Menlo,'DejaVu Sans Mono',consolas,'Courier New',monospace\">╭───────────────────────────────────────────────────────────────────────────────────────────╮\n",
       "│📈 Fitness=<span style=\"color: #000080\">90.240</span>                                                                          │\n",
       "╰───────────────────────────────────────────────────────────────────────────────────────────╯\n",
       "</pre>\n"
      ],
      "text/plain": [
       "<rich.jupyter.JupyterRenderable at 0x14d01e019550>"
      ]
     },
     "metadata": {},
     "output_type": "display_data"
    },
    {
     "data": {
      "text/html": [
       "<pre style=\"white-space:pre;overflow-x:auto;line-height:normal;font-family:Menlo,'DejaVu Sans Mono',consolas,'Courier New',monospace\">╭───────────────────────────────────────────────────────────────────────────────────────────╮\n",
       "│🔥 Best improved from <span style=\"color: #800000; font-weight: bold\">35.960</span> to <span style=\"color: #008000; font-weight: bold\">90.240</span>                                                     │\n",
       "╰───────────────────────────────────────────────────────────────────────────────────────────╯\n",
       "</pre>\n"
      ],
      "text/plain": [
       "<rich.jupyter.JupyterRenderable at 0x14d01e019490>"
      ]
     },
     "metadata": {},
     "output_type": "display_data"
    },
    {
     "data": {
      "text/html": [
       "<pre style=\"white-space:pre;overflow-x:auto;line-height:normal;font-family:Menlo,'DejaVu Sans Mono',consolas,'Courier New',monospace\"><span style=\"color: #00ff00\">──────────────────────────────────── </span>Evaluating pipeline<span style=\"color: #00ff00\"> ────────────────────────────────────</span>\n",
       "</pre>\n"
      ],
      "text/plain": [
       "<rich.jupyter.JupyterRenderable at 0x14d01e019a00>"
      ]
     },
     "metadata": {},
     "output_type": "display_data"
    },
    {
     "data": {
      "text/html": [
       "<pre style=\"white-space:pre;overflow-x:auto;line-height:normal;font-family:Menlo,'DejaVu Sans Mono',consolas,'Courier New',monospace\">Pipeline<span style=\"font-weight: bold\">(</span>\n",
       "    <span style=\"color: #808000; font-style: italic\">preprocessing</span>=<span style=\"color: #800080\">Preprocessor</span><span style=\"font-weight: bold\">(</span>\n",
       "        <span style=\"color: #808000; font-style: italic\">blur</span>=<span style=\"color: #800080\">GaussianBlur</span><span style=\"font-weight: bold\">(</span>\n",
       "            <span style=\"color: #808000; font-style: italic\">kernel_size</span>=<span style=\"font-weight: bold\">(</span><span style=\"color: #000080; font-weight: bold\">41</span>, <span style=\"color: #000080; font-weight: bold\">41</span><span style=\"font-weight: bold\">)</span>, <span style=\"color: #808000; font-style: italic\">sigma</span>=<span style=\"font-weight: bold\">(</span><span style=\"color: #000080; font-weight: bold\">0.17023081430102782</span>, <span style=\"color: #000080; font-weight: bold\">0.17023081430102782</span><span style=\"font-weight: bold\">)</span>\n",
       "        <span style=\"font-weight: bold\">)</span>,\n",
       "        <span style=\"color: #808000; font-style: italic\">affine</span>=<span style=\"color: #800080\">RandomAffine</span><span style=\"font-weight: bold\">(</span>\n",
       "            <span style=\"color: #808000; font-style: italic\">degrees</span>=<span style=\"font-weight: bold\">[</span><span style=\"color: #000080; font-weight: bold\">-326.02413372417857</span>, <span style=\"color: #000080; font-weight: bold\">326.02413372417857</span><span style=\"font-weight: bold\">]</span>,\n",
       "            <span style=\"color: #808000; font-style: italic\">translate</span>=<span style=\"font-weight: bold\">(</span><span style=\"color: #000080; font-weight: bold\">1</span>, <span style=\"color: #000080; font-weight: bold\">0</span><span style=\"font-weight: bold\">)</span>,\n",
       "            <span style=\"color: #808000; font-style: italic\">scale</span>=<span style=\"font-weight: bold\">(</span><span style=\"color: #000080; font-weight: bold\">1</span>, <span style=\"color: #000080; font-weight: bold\">8.80247657560399</span><span style=\"font-weight: bold\">)</span>,\n",
       "            <span style=\"color: #808000; font-style: italic\">shear</span>=<span style=\"font-weight: bold\">[</span><span style=\"color: #000080; font-weight: bold\">-225.91330277746593</span>, <span style=\"color: #000080; font-weight: bold\">225.91330277746593</span><span style=\"font-weight: bold\">]</span>,\n",
       "        <span style=\"font-weight: bold\">)</span>,\n",
       "        <span style=\"color: #808000; font-style: italic\">h_flip</span>=<span style=\"color: #800080\">RandomHorizontalFlip</span><span style=\"font-weight: bold\">(</span><span style=\"color: #808000; font-style: italic\">p</span>=<span style=\"color: #000080; font-weight: bold\">0</span><span style=\"font-weight: bold\">)</span>,\n",
       "        <span style=\"color: #808000; font-style: italic\">v_flip</span>=<span style=\"color: #800080\">RandomVerticalFlip</span><span style=\"font-weight: bold\">(</span><span style=\"color: #808000; font-style: italic\">p</span>=<span style=\"color: #000080; font-weight: bold\">0.06019353866330973</span><span style=\"font-weight: bold\">)</span>,\n",
       "        <span style=\"color: #808000; font-style: italic\">cutout</span>=<span style=\"color: #800080\">RandomErasing</span><span style=\"font-weight: bold\">()</span>,\n",
       "        <span style=\"color: #808000; font-style: italic\">jitter</span>=<span style=\"color: #800080\">ColorJitter</span><span style=\"font-weight: bold\">(</span>\n",
       "            <span style=\"color: #808000; font-style: italic\">brightness</span>=<span style=\"font-weight: bold\">[</span><span style=\"color: #000080; font-weight: bold\">0.0</span>, <span style=\"color: #000080; font-weight: bold\">21.0</span><span style=\"font-weight: bold\">]</span>,\n",
       "            <span style=\"color: #808000; font-style: italic\">contrast</span>=<span style=\"font-weight: bold\">[</span><span style=\"color: #000080; font-weight: bold\">0.0</span>, <span style=\"color: #000080; font-weight: bold\">21.0</span><span style=\"font-weight: bold\">]</span>,\n",
       "            <span style=\"color: #808000; font-style: italic\">saturation</span>=<span style=\"font-weight: bold\">[</span><span style=\"color: #000080; font-weight: bold\">0.0</span>, <span style=\"color: #000080; font-weight: bold\">21.0</span><span style=\"font-weight: bold\">]</span>,\n",
       "            <span style=\"color: #808000; font-style: italic\">hue</span>=<span style=\"font-weight: bold\">[</span><span style=\"color: #000080; font-weight: bold\">-0.14107546597373566</span>, <span style=\"color: #000080; font-weight: bold\">0.14107546597373566</span><span style=\"font-weight: bold\">]</span>,\n",
       "        <span style=\"font-weight: bold\">)</span>,\n",
       "        <span style=\"color: #808000; font-style: italic\">norm</span>=<span style=\"color: #00ff00; font-style: italic\">True</span>,\n",
       "        <span style=\"color: #808000; font-style: italic\">crop</span>=<span style=\"color: #ff0000; font-style: italic\">False</span>,\n",
       "    <span style=\"font-weight: bold\">)</span>,\n",
       "    <span style=\"color: #808000; font-style: italic\">pdarts</span>=<span style=\"color: #800080\">PDarts</span><span style=\"font-weight: bold\">(</span>\n",
       "        <span style=\"color: #808000; font-style: italic\">momentum</span>=<span style=\"color: #000080; font-weight: bold\">0.0</span>,\n",
       "        <span style=\"color: #808000; font-style: italic\">weight_decay</span>=<span style=\"color: #000080; font-weight: bold\">0.0016641975177169115</span>,\n",
       "        <span style=\"color: #808000; font-style: italic\">arch_weight_decay</span>=<span style=\"color: #000080; font-weight: bold\">3e-10</span>,\n",
       "        <span style=\"color: #808000; font-style: italic\">epochs</span>=<span style=\"color: #000080; font-weight: bold\">10</span>,\n",
       "        <span style=\"color: #808000; font-style: italic\">warmup_epochs</span>=<span style=\"color: #000080; font-weight: bold\">6</span>,\n",
       "        <span style=\"color: #808000; font-style: italic\">init_channels</span>=<span style=\"color: #000080; font-weight: bold\">32</span>,\n",
       "        <span style=\"color: #808000; font-style: italic\">layers</span>=<span style=\"color: #000080; font-weight: bold\">2</span>,\n",
       "        <span style=\"color: #808000; font-style: italic\">grad_clip</span>=<span style=\"color: #000080; font-weight: bold\">0.7770443348212724</span>,\n",
       "        <span style=\"color: #808000; font-style: italic\">dropout_rate</span>=<span style=\"color: #000080; font-weight: bold\">0.0</span>,\n",
       "        <span style=\"color: #808000; font-style: italic\">arch_dropout_rate</span>=<span style=\"color: #000080; font-weight: bold\">1.0</span>,\n",
       "        <span style=\"color: #808000; font-style: italic\">learning_rate</span>=<span style=\"color: #000080; font-weight: bold\">0.1</span>,\n",
       "        <span style=\"color: #808000; font-style: italic\">arch_learning_rate</span>=<span style=\"color: #000080; font-weight: bold\">0.1</span>,\n",
       "        <span style=\"color: #808000; font-style: italic\">learning_rate_min</span>=<span style=\"color: #000080; font-weight: bold\">0.0001</span>,\n",
       "    <span style=\"font-weight: bold\">)</span>,\n",
       "    <span style=\"color: #808000; font-style: italic\">batch_size</span>=<span style=\"color: #000080; font-weight: bold\">85</span>,\n",
       "<span style=\"font-weight: bold\">)</span>\n",
       "</pre>\n"
      ],
      "text/plain": [
       "<rich.jupyter.JupyterRenderable at 0x14d01e019a00>"
      ]
     },
     "metadata": {},
     "output_type": "display_data"
    },
    {
     "name": "stdout",
     "output_type": "stream",
     "text": [
      "[Grayscale(num_output_channels=3), GaussianBlur(kernel_size=(41, 41), sigma=(0.17023081430102782, 0.17023081430102782)), RandomAffine(degrees=[-326.02413372417857, 326.02413372417857], translate=(1, 0), scale=(1, 8.80247657560399), shear=[-225.91330277746593, 225.91330277746593]), ColorJitter(brightness=[0.0, 21.0], contrast=[0.0, 21.0], saturation=[0.0, 21.0], hue=[-0.14107546597373566, 0.14107546597373566]), ToTensor(), RandomErasing(), Normalize(mean=tensor([[[0.1307]],\n",
      "\n",
      "        [[0.1307]],\n",
      "\n",
      "        [[0.1307]]]), std=tensor([[[0.3081]],\n",
      "\n",
      "        [[0.3081]],\n",
      "\n",
      "        [[0.3081]]]))]\n",
      "epoch_duration=249.5577094554901: epoch=0 train_acc=16.11666726823648\n",
      "epoch_duration=250.2753827571869: epoch=1 train_acc=17.43500067615509\n",
      "epoch_duration=249.68231534957886: epoch=2 train_acc=18.41500072169304\n"
     ]
    }
   ],
   "source": [
    "search_pe = PESearch(\n",
    "    grammar, \n",
    "    evaluate, \n",
    "    pop_size=1, \n",
    "    evaluation_timeout=0,\n",
    "    memory_limit=0,\n",
    "    search_timeout=0\n",
    ")\n",
    "best_pe, best_fn_pe = search_pe.run(10, logger=RichLogger())"
   ]
  },
  {
   "cell_type": "code",
   "execution_count": 4,
   "id": "4ca393c2",
   "metadata": {},
   "outputs": [
    {
     "name": "stdout",
     "output_type": "stream",
     "text": [
      "Files already downloaded and verified\n",
      "Files already downloaded and verified\n"
     ]
    }
   ],
   "source": [
    "train_data = CIFAR10(\n",
    "    root='./data', train=True, download=True\n",
    ")\n",
    "\n",
    "val_data = CIFAR10(\n",
    "    root='./data', train=False, download=True\n",
    ")"
   ]
  },
  {
   "cell_type": "code",
   "execution_count": 5,
   "id": "320b8494",
   "metadata": {},
   "outputs": [],
   "source": [
    "def evaluate(candidate):\n",
    "    v, _ = candidate.fit(train_data, val_data)\n",
    "    return v"
   ]
  },
  {
   "cell_type": "code",
   "execution_count": null,
   "id": "0388e771",
   "metadata": {},
   "outputs": [
    {
     "data": {
      "application/vnd.jupyter.widget-view+json": {
       "model_id": "77e93625aa584455bb6137fed919c78a",
       "version_major": 2,
       "version_minor": 0
      },
      "text/plain": [
       "Output()"
      ]
     },
     "metadata": {},
     "output_type": "display_data"
    },
    {
     "data": {
      "text/html": [
       "<pre style=\"white-space:pre;overflow-x:auto;line-height:normal;font-family:Menlo,'DejaVu Sans Mono',consolas,'Courier New',monospace\"><span style=\"color: #000080\">────────────────────────────────────── </span>Search starting<span style=\"color: #000080\"> ──────────────────────────────────────</span>\n",
       "</pre>\n"
      ],
      "text/plain": [
       "<rich.jupyter.JupyterRenderable at 0x14d841e97370>"
      ]
     },
     "metadata": {},
     "output_type": "display_data"
    },
    {
     "data": {
      "text/html": [
       "<pre style=\"white-space:pre;overflow-x:auto;line-height:normal;font-family:Menlo,'DejaVu Sans Mono',consolas,'Courier New',monospace\"><span style=\"color: #00ff00\">──────────────────────────────────── </span>Evaluating pipeline<span style=\"color: #00ff00\"> ────────────────────────────────────</span>\n",
       "</pre>\n"
      ],
      "text/plain": [
       "<rich.jupyter.JupyterRenderable at 0x14d6eddcefd0>"
      ]
     },
     "metadata": {},
     "output_type": "display_data"
    },
    {
     "data": {
      "text/html": [
       "<pre style=\"white-space:pre;overflow-x:auto;line-height:normal;font-family:Menlo,'DejaVu Sans Mono',consolas,'Courier New',monospace\">Pipeline<span style=\"font-weight: bold\">(</span>\n",
       "    <span style=\"color: #808000; font-style: italic\">preprocessing</span>=<span style=\"color: #800080\">Preprocessor</span><span style=\"font-weight: bold\">(</span>\n",
       "        <span style=\"color: #808000; font-style: italic\">blur</span>=<span style=\"color: #800080\">GaussianBlur</span><span style=\"font-weight: bold\">(</span><span style=\"color: #808000; font-style: italic\">kernel_size</span>=<span style=\"font-weight: bold\">(</span><span style=\"color: #000080; font-weight: bold\">1</span>, <span style=\"color: #000080; font-weight: bold\">1</span><span style=\"font-weight: bold\">)</span>, <span style=\"color: #808000; font-style: italic\">sigma</span>=<span style=\"font-weight: bold\">(</span><span style=\"color: #000080; font-weight: bold\">2.0</span>, <span style=\"color: #000080; font-weight: bold\">2.0</span><span style=\"font-weight: bold\">))</span>,\n",
       "        <span style=\"color: #808000; font-style: italic\">affine</span>=<span style=\"color: #800080\">RandomAffine</span><span style=\"font-weight: bold\">(</span>\n",
       "            <span style=\"color: #808000; font-style: italic\">degrees</span>=<span style=\"font-weight: bold\">[</span><span style=\"color: #000080; font-weight: bold\">0.0</span>, <span style=\"color: #000080; font-weight: bold\">0.0</span><span style=\"font-weight: bold\">]</span>,\n",
       "            <span style=\"color: #808000; font-style: italic\">translate</span>=<span style=\"font-weight: bold\">(</span><span style=\"color: #000080; font-weight: bold\">0.4226780080434535</span>, <span style=\"color: #000080; font-weight: bold\">1</span><span style=\"font-weight: bold\">)</span>,\n",
       "            <span style=\"color: #808000; font-style: italic\">scale</span>=<span style=\"font-weight: bold\">(</span><span style=\"color: #000080; font-weight: bold\">0.6646078603262289</span>, <span style=\"color: #000080; font-weight: bold\">10.664607860326228</span><span style=\"font-weight: bold\">)</span>,\n",
       "            <span style=\"color: #808000; font-style: italic\">shear</span>=<span style=\"font-weight: bold\">[</span><span style=\"color: #000080; font-weight: bold\">-134.04095080672272</span>, <span style=\"color: #000080; font-weight: bold\">134.04095080672272</span><span style=\"font-weight: bold\">]</span>,\n",
       "        <span style=\"font-weight: bold\">)</span>,\n",
       "        <span style=\"color: #808000; font-style: italic\">h_flip</span>=<span style=\"color: #800080\">RandomHorizontalFlip</span><span style=\"font-weight: bold\">(</span><span style=\"color: #808000; font-style: italic\">p</span>=<span style=\"color: #000080; font-weight: bold\">0.5492704568678206</span><span style=\"font-weight: bold\">)</span>,\n",
       "        <span style=\"color: #808000; font-style: italic\">v_flip</span>=<span style=\"color: #800080\">RandomVerticalFlip</span><span style=\"font-weight: bold\">(</span><span style=\"color: #808000; font-style: italic\">p</span>=<span style=\"color: #000080; font-weight: bold\">1</span><span style=\"font-weight: bold\">)</span>,\n",
       "        <span style=\"color: #808000; font-style: italic\">cutout</span>=<span style=\"color: #800080\">RandomErasing</span><span style=\"font-weight: bold\">()</span>,\n",
       "        <span style=\"color: #808000; font-style: italic\">jitter</span>=<span style=\"color: #800080\">ColorJitter</span><span style=\"font-weight: bold\">(</span>\n",
       "            <span style=\"color: #808000; font-style: italic\">brightness</span>=<span style=\"font-weight: bold\">[</span><span style=\"color: #000080; font-weight: bold\">0.1626495338756424</span>, <span style=\"color: #000080; font-weight: bold\">1.8373504661243576</span><span style=\"font-weight: bold\">]</span>,\n",
       "            <span style=\"color: #808000; font-style: italic\">contrast</span>=<span style=\"font-weight: bold\">[</span><span style=\"color: #000080; font-weight: bold\">0.3403478602266734</span>, <span style=\"color: #000080; font-weight: bold\">1.6596521397733266</span><span style=\"font-weight: bold\">]</span>,\n",
       "            <span style=\"color: #808000; font-style: italic\">saturation</span>=<span style=\"font-weight: bold\">[</span><span style=\"color: #000080; font-weight: bold\">0.0</span>, <span style=\"color: #000080; font-weight: bold\">14.609869067844883</span><span style=\"font-weight: bold\">]</span>,\n",
       "            <span style=\"color: #808000; font-style: italic\">hue</span>=<span style=\"font-weight: bold\">[</span><span style=\"color: #000080; font-weight: bold\">-0.26950065095371056</span>, <span style=\"color: #000080; font-weight: bold\">0.26950065095371056</span><span style=\"font-weight: bold\">]</span>,\n",
       "        <span style=\"font-weight: bold\">)</span>,\n",
       "        <span style=\"color: #808000; font-style: italic\">norm</span>=<span style=\"color: #00ff00; font-style: italic\">True</span>,\n",
       "        <span style=\"color: #808000; font-style: italic\">crop</span>=<span style=\"color: #ff0000; font-style: italic\">False</span>,\n",
       "    <span style=\"font-weight: bold\">)</span>,\n",
       "    <span style=\"color: #808000; font-style: italic\">pdarts</span>=<span style=\"color: #800080\">PDarts</span><span style=\"font-weight: bold\">(</span>\n",
       "        <span style=\"color: #808000; font-style: italic\">momentum</span>=<span style=\"color: #000080; font-weight: bold\">0.0</span>,\n",
       "        <span style=\"color: #808000; font-style: italic\">weight_decay</span>=<span style=\"color: #000080; font-weight: bold\">0.003</span>,\n",
       "        <span style=\"color: #808000; font-style: italic\">arch_weight_decay</span>=<span style=\"color: #000080; font-weight: bold\">5.089713805499544e-05</span>,\n",
       "        <span style=\"color: #808000; font-style: italic\">epochs</span>=<span style=\"color: #000080; font-weight: bold\">10</span>,\n",
       "        <span style=\"color: #808000; font-style: italic\">warmup_epochs</span>=<span style=\"color: #000080; font-weight: bold\">9</span>,\n",
       "        <span style=\"color: #808000; font-style: italic\">init_channels</span>=<span style=\"color: #000080; font-weight: bold\">8</span>,\n",
       "        <span style=\"color: #808000; font-style: italic\">layers</span>=<span style=\"color: #000080; font-weight: bold\">2</span>,\n",
       "        <span style=\"color: #808000; font-style: italic\">grad_clip</span>=<span style=\"color: #000080; font-weight: bold\">-1.0</span>,\n",
       "        <span style=\"color: #808000; font-style: italic\">dropout_rate</span>=<span style=\"color: #000080; font-weight: bold\">0.8</span>,\n",
       "        <span style=\"color: #808000; font-style: italic\">arch_dropout_rate</span>=<span style=\"color: #000080; font-weight: bold\">1.0</span>,\n",
       "        <span style=\"color: #808000; font-style: italic\">learning_rate</span>=<span style=\"color: #000080; font-weight: bold\">0.1</span>,\n",
       "        <span style=\"color: #808000; font-style: italic\">arch_learning_rate</span>=<span style=\"color: #000080; font-weight: bold\">0.033886491844173125</span>,\n",
       "        <span style=\"color: #808000; font-style: italic\">learning_rate_min</span>=<span style=\"color: #000080; font-weight: bold\">0.01</span>,\n",
       "    <span style=\"font-weight: bold\">)</span>,\n",
       "    <span style=\"color: #808000; font-style: italic\">batch_size</span>=<span style=\"color: #000080; font-weight: bold\">96</span>,\n",
       "<span style=\"font-weight: bold\">)</span>\n",
       "</pre>\n"
      ],
      "text/plain": [
       "<rich.jupyter.JupyterRenderable at 0x14d6eddcefd0>"
      ]
     },
     "metadata": {},
     "output_type": "display_data"
    },
    {
     "name": "stdout",
     "output_type": "stream",
     "text": [
      "[GaussianBlur(kernel_size=(1, 1), sigma=(2.0, 2.0)), RandomHorizontalFlip(p=0.5492704568678206), RandomVerticalFlip(p=1), ToTensor(), RandomErasing(), Normalize(mean=tensor([[[0.4809]],\n",
      "\n",
      "        [[0.4809]],\n",
      "\n",
      "        [[0.4809]]]), std=tensor([[[0.2392]],\n",
      "\n",
      "        [[0.2392]],\n",
      "\n",
      "        [[0.2392]]]))]\n",
      "epoch_duration=116.04717421531677: epoch=0 train_acc=2.2299999384307863\n",
      "epoch_duration=114.25994825363159: epoch=1 train_acc=2.0679999432373046\n",
      "epoch_duration=115.3295955657959: epoch=2 train_acc=2.0139999435424807\n",
      "epoch_duration=115.90329027175903: epoch=3 train_acc=1.9119999436950683\n",
      "epoch_duration=115.08937907218933: epoch=4 train_acc=1.9919999420166015\n",
      "epoch_duration=115.25720310211182: epoch=5 train_acc=1.919999944152832\n",
      "epoch_duration=116.03507995605469: epoch=6 train_acc=1.8219999506378173\n",
      "epoch_duration=115.01759481430054: epoch=7 train_acc=1.753999949874878\n",
      "epoch_duration=114.15363264083862: epoch=8 train_acc=1.6979999515533448\n",
      "epoch_duration=195.4733386039734: epoch=9 train_acc=1.7919999475860595\n",
      "epoch_duration=153.49436259269714: epoch=0 train_acc=4.357999867782593\n",
      "epoch_duration=153.25525784492493: epoch=1 train_acc=2.9579999205780028\n",
      "epoch_duration=153.45618796348572: epoch=2 train_acc=2.6239999225616457\n",
      "epoch_duration=153.16920566558838: epoch=3 train_acc=2.5679999256896973\n",
      "epoch_duration=153.601464509964: epoch=4 train_acc=2.375999937286377\n",
      "epoch_duration=153.40954518318176: epoch=5 train_acc=2.405999928970337\n",
      "epoch_duration=153.38491940498352: epoch=6 train_acc=2.2099999381256104\n",
      "epoch_duration=153.03105211257935: epoch=7 train_acc=1.9919999437713622\n",
      "epoch_duration=153.08877062797546: epoch=8 train_acc=1.9659999435424804\n",
      "epoch_duration=271.6225836277008: epoch=9 train_acc=2.0559999435424805\n",
      "epoch_duration=136.37733697891235: epoch=0 train_acc=6.6539998208618165\n",
      "epoch_duration=136.2097327709198: epoch=1 train_acc=6.219999830245972\n",
      "epoch_duration=136.34773421287537: epoch=2 train_acc=5.787999844970703\n",
      "epoch_duration=136.19157600402832: epoch=3 train_acc=5.531999850387574\n",
      "epoch_duration=136.25676941871643: epoch=4 train_acc=5.485999853439331\n",
      "epoch_duration=136.39474964141846: epoch=5 train_acc=5.191999851913452\n",
      "epoch_duration=136.4230136871338: epoch=6 train_acc=5.325999850845337\n",
      "epoch_duration=136.46975016593933: epoch=7 train_acc=5.169999863128662\n",
      "epoch_duration=136.36046266555786: epoch=8 train_acc=4.853999867935181\n",
      "epoch_duration=238.34482598304749: epoch=9 train_acc=4.651999869003296\n",
      "Genotype(normal=[('sep_conv_5x5', 0), ('dil_conv_3x3', 0), ('sep_conv_7x7', 1), ('dil_conv_3x3', 1), ('sep_conv_3x3', 1), ('sep_conv_7x7', 1), ('sep_conv_3x3', 2), ('sep_conv_5x5', 2), ('sep_conv_3x3', 1), ('sep_conv_7x7', 1), ('sep_conv_3x3', 2), ('dil_conv_3x3', 2), ('dil_conv_3x3', 0), ('dil_conv_5x5', 0), ('sep_conv_7x7', 1), ('dil_conv_3x3', 1)], normal_concat=range(2, 6), reduce=[('sep_conv_3x3', 0), ('sep_conv_7x7', 0), ('sep_conv_5x5', 1), ('sep_conv_7x7', 1), ('sep_conv_5x5', 1), ('sep_conv_7x7', 1), ('sep_conv_7x7', 2), ('dil_conv_5x5', 2), ('avg_pool_3x3', 2), ('sep_conv_3x3', 2), ('sep_conv_7x7', 3), ('dil_conv_5x5', 3), ('avg_pool_3x3', 2), ('sep_conv_7x7', 2), ('max_pool_3x3', 4), ('sep_conv_3x3', 4)], reduce_concat=range(2, 6))\n"
     ]
    },
    {
     "data": {
      "text/html": [
       "<pre style=\"white-space:pre;overflow-x:auto;line-height:normal;font-family:Menlo,'DejaVu Sans Mono',consolas,'Courier New',monospace\">╭───────────────────────────────────────────────────────────────────────────────────────────╮\n",
       "│📈 Fitness=<span style=\"color: #000080\">5.530</span>                                                                           │\n",
       "╰───────────────────────────────────────────────────────────────────────────────────────────╯\n",
       "</pre>\n"
      ],
      "text/plain": [
       "<rich.jupyter.JupyterRenderable at 0x14d6dcb8cd00>"
      ]
     },
     "metadata": {},
     "output_type": "display_data"
    },
    {
     "data": {
      "text/html": [
       "<pre style=\"white-space:pre;overflow-x:auto;line-height:normal;font-family:Menlo,'DejaVu Sans Mono',consolas,'Courier New',monospace\">╭───────────────────────────────────────────────────────────────────────────────────────────╮\n",
       "│🔥 Best improved from <span style=\"color: #800000; font-weight: bold\">0.000</span> to <span style=\"color: #008000; font-weight: bold\">5.530</span>                                                       │\n",
       "╰───────────────────────────────────────────────────────────────────────────────────────────╯\n",
       "</pre>\n"
      ],
      "text/plain": [
       "<rich.jupyter.JupyterRenderable at 0x14d6dcb8cc70>"
      ]
     },
     "metadata": {},
     "output_type": "display_data"
    },
    {
     "data": {
      "text/html": [
       "<pre style=\"white-space:pre;overflow-x:auto;line-height:normal;font-family:Menlo,'DejaVu Sans Mono',consolas,'Courier New',monospace\"><span style=\"color: #00ff00\">──────────────────────────────────── </span>Evaluating pipeline<span style=\"color: #00ff00\"> ────────────────────────────────────</span>\n",
       "</pre>\n"
      ],
      "text/plain": [
       "<rich.jupyter.JupyterRenderable at 0x14d6dcb4a3a0>"
      ]
     },
     "metadata": {},
     "output_type": "display_data"
    },
    {
     "data": {
      "text/html": [
       "<pre style=\"white-space:pre;overflow-x:auto;line-height:normal;font-family:Menlo,'DejaVu Sans Mono',consolas,'Courier New',monospace\">Pipeline<span style=\"font-weight: bold\">(</span>\n",
       "    <span style=\"color: #808000; font-style: italic\">preprocessing</span>=<span style=\"color: #800080\">Preprocessor</span><span style=\"font-weight: bold\">(</span>\n",
       "        <span style=\"color: #808000; font-style: italic\">blur</span>=<span style=\"color: #800080\">GaussianBlur</span><span style=\"font-weight: bold\">(</span>\n",
       "            <span style=\"color: #808000; font-style: italic\">kernel_size</span>=<span style=\"font-weight: bold\">(</span><span style=\"color: #000080; font-weight: bold\">41</span>, <span style=\"color: #000080; font-weight: bold\">41</span><span style=\"font-weight: bold\">)</span>, <span style=\"color: #808000; font-style: italic\">sigma</span>=<span style=\"font-weight: bold\">(</span><span style=\"color: #000080; font-weight: bold\">0.16462313905740789</span>, <span style=\"color: #000080; font-weight: bold\">0.16462313905740789</span><span style=\"font-weight: bold\">)</span>\n",
       "        <span style=\"font-weight: bold\">)</span>,\n",
       "        <span style=\"color: #808000; font-style: italic\">affine</span>=<span style=\"color: #800080\">RandomAffine</span><span style=\"font-weight: bold\">(</span>\n",
       "            <span style=\"color: #808000; font-style: italic\">degrees</span>=<span style=\"font-weight: bold\">[</span><span style=\"color: #000080; font-weight: bold\">0.0</span>, <span style=\"color: #000080; font-weight: bold\">0.0</span><span style=\"font-weight: bold\">]</span>,\n",
       "            <span style=\"color: #808000; font-style: italic\">translate</span>=<span style=\"font-weight: bold\">(</span><span style=\"color: #000080; font-weight: bold\">0</span>, <span style=\"color: #000080; font-weight: bold\">0.6324250330455224</span><span style=\"font-weight: bold\">)</span>,\n",
       "            <span style=\"color: #808000; font-style: italic\">scale</span>=<span style=\"font-weight: bold\">(</span><span style=\"color: #000080; font-weight: bold\">0.1</span>, <span style=\"color: #000080; font-weight: bold\">1.1</span><span style=\"font-weight: bold\">)</span>,\n",
       "            <span style=\"color: #808000; font-style: italic\">shear</span>=<span style=\"font-weight: bold\">[</span><span style=\"color: #000080; font-weight: bold\">-360.0</span>, <span style=\"color: #000080; font-weight: bold\">360.0</span><span style=\"font-weight: bold\">]</span>,\n",
       "        <span style=\"font-weight: bold\">)</span>,\n",
       "        <span style=\"color: #808000; font-style: italic\">h_flip</span>=<span style=\"color: #800080\">RandomHorizontalFlip</span><span style=\"font-weight: bold\">(</span><span style=\"color: #808000; font-style: italic\">p</span>=<span style=\"color: #000080; font-weight: bold\">0</span><span style=\"font-weight: bold\">)</span>,\n",
       "        <span style=\"color: #808000; font-style: italic\">v_flip</span>=<span style=\"color: #800080\">RandomVerticalFlip</span><span style=\"font-weight: bold\">(</span><span style=\"color: #808000; font-style: italic\">p</span>=<span style=\"color: #000080; font-weight: bold\">1</span><span style=\"font-weight: bold\">)</span>,\n",
       "        <span style=\"color: #808000; font-style: italic\">cutout</span>=<span style=\"color: #800080\">RandomErasing</span><span style=\"font-weight: bold\">()</span>,\n",
       "        <span style=\"color: #808000; font-style: italic\">jitter</span>=<span style=\"color: #800080\">ColorJitter</span><span style=\"font-weight: bold\">(</span>\n",
       "            <span style=\"color: #808000; font-style: italic\">brightness</span>=<span style=\"font-weight: bold\">[</span><span style=\"color: #000080; font-weight: bold\">0.0</span>, <span style=\"color: #000080; font-weight: bold\">20.4520453243932</span><span style=\"font-weight: bold\">]</span>,\n",
       "            <span style=\"color: #808000; font-style: italic\">contrast</span>=<span style=\"color: #800080; font-style: italic\">None</span>,\n",
       "            <span style=\"color: #808000; font-style: italic\">saturation</span>=<span style=\"color: #800080; font-style: italic\">None</span>,\n",
       "            <span style=\"color: #808000; font-style: italic\">hue</span>=<span style=\"font-weight: bold\">[</span><span style=\"color: #000080; font-weight: bold\">-0.1517575180667799</span>, <span style=\"color: #000080; font-weight: bold\">0.1517575180667799</span><span style=\"font-weight: bold\">]</span>,\n",
       "        <span style=\"font-weight: bold\">)</span>,\n",
       "        <span style=\"color: #808000; font-style: italic\">norm</span>=<span style=\"color: #ff0000; font-style: italic\">False</span>,\n",
       "        <span style=\"color: #808000; font-style: italic\">crop</span>=<span style=\"color: #ff0000; font-style: italic\">False</span>,\n",
       "    <span style=\"font-weight: bold\">)</span>,\n",
       "    <span style=\"color: #808000; font-style: italic\">pdarts</span>=<span style=\"color: #800080\">PDarts</span><span style=\"font-weight: bold\">(</span>\n",
       "        <span style=\"color: #808000; font-style: italic\">momentum</span>=<span style=\"color: #000080; font-weight: bold\">1.0</span>,\n",
       "        <span style=\"color: #808000; font-style: italic\">weight_decay</span>=<span style=\"color: #000080; font-weight: bold\">0.0002600311840329748</span>,\n",
       "        <span style=\"color: #808000; font-style: italic\">arch_weight_decay</span>=<span style=\"color: #000080; font-weight: bold\">3e-10</span>,\n",
       "        <span style=\"color: #808000; font-style: italic\">epochs</span>=<span style=\"color: #000080; font-weight: bold\">10</span>,\n",
       "        <span style=\"color: #808000; font-style: italic\">warmup_epochs</span>=<span style=\"color: #000080; font-weight: bold\">5</span>,\n",
       "        <span style=\"color: #808000; font-style: italic\">init_channels</span>=<span style=\"color: #000080; font-weight: bold\">32</span>,\n",
       "        <span style=\"color: #808000; font-style: italic\">layers</span>=<span style=\"color: #000080; font-weight: bold\">3</span>,\n",
       "        <span style=\"color: #808000; font-style: italic\">grad_clip</span>=<span style=\"color: #000080; font-weight: bold\">1.0</span>,\n",
       "        <span style=\"color: #808000; font-style: italic\">dropout_rate</span>=<span style=\"color: #000080; font-weight: bold\">0.8</span>,\n",
       "        <span style=\"color: #808000; font-style: italic\">arch_dropout_rate</span>=<span style=\"color: #000080; font-weight: bold\">0.5523807072398229</span>,\n",
       "        <span style=\"color: #808000; font-style: italic\">learning_rate</span>=<span style=\"color: #000080; font-weight: bold\">0.05651210543677017</span>,\n",
       "        <span style=\"color: #808000; font-style: italic\">arch_learning_rate</span>=<span style=\"color: #000080; font-weight: bold\">0.1</span>,\n",
       "        <span style=\"color: #808000; font-style: italic\">learning_rate_min</span>=<span style=\"color: #000080; font-weight: bold\">0.006849930120642269</span>,\n",
       "    <span style=\"font-weight: bold\">)</span>,\n",
       "    <span style=\"color: #808000; font-style: italic\">batch_size</span>=<span style=\"color: #000080; font-weight: bold\">96</span>,\n",
       "<span style=\"font-weight: bold\">)</span>\n",
       "</pre>\n"
      ],
      "text/plain": [
       "<rich.jupyter.JupyterRenderable at 0x14d6eddceee0>"
      ]
     },
     "metadata": {},
     "output_type": "display_data"
    },
    {
     "name": "stdout",
     "output_type": "stream",
     "text": [
      "[ColorJitter(brightness=[0.0, 20.4520453243932], contrast=None, saturation=None, hue=[-0.1517575180667799, 0.1517575180667799]), ToTensor(), RandomErasing()]\n",
      "epoch_duration=275.9592852592468: epoch=0 train_acc=20.315999318237306\n",
      "epoch_duration=275.4906644821167: epoch=1 train_acc=21.93199924621582\n",
      "epoch_duration=275.32702016830444: epoch=2 train_acc=23.399999197998046\n",
      "epoch_duration=275.466947555542: epoch=3 train_acc=22.655999204711915\n",
      "epoch_duration=275.3064410686493: epoch=4 train_acc=23.161999202270508\n",
      "epoch_duration=527.5633883476257: epoch=5 train_acc=19.419999297180176\n",
      "epoch_duration=527.4893550872803: epoch=6 train_acc=20.663999290771486\n",
      "epoch_duration=527.5129542350769: epoch=7 train_acc=21.41599928222656\n",
      "epoch_duration=527.9033632278442: epoch=8 train_acc=19.66599933105469\n",
      "epoch_duration=527.7519166469574: epoch=9 train_acc=21.797999236450195\n",
      "epoch_duration=233.18305492401123: epoch=0 train_acc=20.829999256591798\n",
      "epoch_duration=232.81068539619446: epoch=1 train_acc=22.94199921508789\n",
      "epoch_duration=232.6123468875885: epoch=2 train_acc=23.437999145507813\n",
      "epoch_duration=232.71328687667847: epoch=3 train_acc=23.455999201660156\n",
      "epoch_duration=232.59394574165344: epoch=4 train_acc=24.465999143066405\n",
      "epoch_duration=441.497181892395: epoch=5 train_acc=20.331999271240235\n",
      "epoch_duration=440.71608090400696: epoch=6 train_acc=20.645999299926757\n",
      "epoch_duration=441.19557189941406: epoch=7 train_acc=20.993999337158204\n",
      "epoch_duration=441.2145326137543: epoch=8 train_acc=21.719999251708984\n",
      "epoch_duration=441.1882128715515: epoch=9 train_acc=21.69799931060791\n",
      "epoch_duration=183.0125651359558: epoch=0 train_acc=21.40399927154541\n",
      "epoch_duration=182.54058718681335: epoch=1 train_acc=23.269999194335938\n",
      "epoch_duration=182.56293892860413: epoch=2 train_acc=24.455999085083008\n",
      "epoch_duration=182.55215883255005: epoch=3 train_acc=25.505999052124025\n",
      "epoch_duration=182.4335813522339: epoch=4 train_acc=24.7299990826416\n",
      "epoch_duration=343.8460919857025: epoch=5 train_acc=22.315999248046875\n",
      "epoch_duration=343.9644453525543: epoch=6 train_acc=17.815999385681152\n",
      "epoch_duration=343.52980613708496: epoch=7 train_acc=18.887999346923827\n",
      "epoch_duration=343.69466948509216: epoch=8 train_acc=21.021999310913085\n",
      "epoch_duration=343.7013289928436: epoch=9 train_acc=21.04399923248291\n",
      "Genotype(normal=[('none', 0), ('skip_connect', 0), ('none', 1), ('sep_conv_3x3', 1), ('none', 1), ('sep_conv_3x3', 1), ('avg_pool_3x3', 2), ('dil_conv_3x3', 2), ('none', 1), ('dil_conv_3x3', 1), ('none', 2), ('sep_conv_3x3', 2), ('none', 2), ('sep_conv_5x5', 2), ('none', 4), ('sep_conv_3x3', 4)], normal_concat=range(2, 6), reduce=[('none', 0), ('max_pool_3x3', 0), ('none', 1), ('max_pool_3x3', 1), ('none', 1), ('skip_connect', 1), ('none', 2), ('sep_conv_3x3', 2), ('none', 1), ('dil_conv_3x3', 1), ('sep_conv_3x3', 2), ('dil_conv_3x3', 2), ('none', 1), ('sep_conv_7x7', 1), ('none', 2), ('skip_connect', 2)], reduce_concat=range(2, 6))\n"
     ]
    },
    {
     "data": {
      "text/html": [
       "<pre style=\"white-space:pre;overflow-x:auto;line-height:normal;font-family:Menlo,'DejaVu Sans Mono',consolas,'Courier New',monospace\">╭───────────────────────────────────────────────────────────────────────────────────────────╮\n",
       "│📈 Fitness=<span style=\"color: #000080\">18.550</span>                                                                          │\n",
       "╰───────────────────────────────────────────────────────────────────────────────────────────╯\n",
       "</pre>\n"
      ],
      "text/plain": [
       "<rich.jupyter.JupyterRenderable at 0x14d6eddcef70>"
      ]
     },
     "metadata": {},
     "output_type": "display_data"
    },
    {
     "data": {
      "text/html": [
       "<pre style=\"white-space:pre;overflow-x:auto;line-height:normal;font-family:Menlo,'DejaVu Sans Mono',consolas,'Courier New',monospace\">╭───────────────────────────────────────────────────────────────────────────────────────────╮\n",
       "│🔥 Best improved from <span style=\"color: #800000; font-weight: bold\">5.530</span> to <span style=\"color: #008000; font-weight: bold\">18.550</span>                                                      │\n",
       "╰───────────────────────────────────────────────────────────────────────────────────────────╯\n",
       "</pre>\n"
      ],
      "text/plain": [
       "<rich.jupyter.JupyterRenderable at 0x14d6eddcefa0>"
      ]
     },
     "metadata": {},
     "output_type": "display_data"
    },
    {
     "data": {
      "text/html": [
       "<pre style=\"white-space:pre;overflow-x:auto;line-height:normal;font-family:Menlo,'DejaVu Sans Mono',consolas,'Courier New',monospace\"><span style=\"color: #00ff00\">──────────────────────────────────── </span>Evaluating pipeline<span style=\"color: #00ff00\"> ────────────────────────────────────</span>\n",
       "</pre>\n"
      ],
      "text/plain": [
       "<rich.jupyter.JupyterRenderable at 0x14d6dca7e820>"
      ]
     },
     "metadata": {},
     "output_type": "display_data"
    },
    {
     "data": {
      "text/html": [
       "<pre style=\"white-space:pre;overflow-x:auto;line-height:normal;font-family:Menlo,'DejaVu Sans Mono',consolas,'Courier New',monospace\">Pipeline<span style=\"font-weight: bold\">(</span>\n",
       "    <span style=\"color: #808000; font-style: italic\">preprocessing</span>=<span style=\"color: #800080\">Preprocessor</span><span style=\"font-weight: bold\">(</span>\n",
       "        <span style=\"color: #808000; font-style: italic\">blur</span>=<span style=\"color: #800080\">GaussianBlur</span><span style=\"font-weight: bold\">(</span><span style=\"color: #808000; font-style: italic\">kernel_size</span>=<span style=\"font-weight: bold\">(</span><span style=\"color: #000080; font-weight: bold\">5</span>, <span style=\"color: #000080; font-weight: bold\">5</span><span style=\"font-weight: bold\">)</span>, <span style=\"color: #808000; font-style: italic\">sigma</span>=<span style=\"font-weight: bold\">(</span><span style=\"color: #000080; font-weight: bold\">0.1</span>, <span style=\"color: #000080; font-weight: bold\">0.1</span><span style=\"font-weight: bold\">))</span>,\n",
       "        <span style=\"color: #808000; font-style: italic\">affine</span>=<span style=\"color: #800080\">RandomAffine</span><span style=\"font-weight: bold\">(</span>\n",
       "            <span style=\"color: #808000; font-style: italic\">degrees</span>=<span style=\"font-weight: bold\">[</span><span style=\"color: #000080; font-weight: bold\">0.0</span>, <span style=\"color: #000080; font-weight: bold\">0.0</span><span style=\"font-weight: bold\">]</span>,\n",
       "            <span style=\"color: #808000; font-style: italic\">translate</span>=<span style=\"font-weight: bold\">(</span><span style=\"color: #000080; font-weight: bold\">0</span>, <span style=\"color: #000080; font-weight: bold\">0.1912180949248966</span><span style=\"font-weight: bold\">)</span>,\n",
       "            <span style=\"color: #808000; font-style: italic\">scale</span>=<span style=\"font-weight: bold\">(</span><span style=\"color: #000080; font-weight: bold\">0.8675142582054303</span>, <span style=\"color: #000080; font-weight: bold\">8.203337613691845</span><span style=\"font-weight: bold\">)</span>,\n",
       "            <span style=\"color: #808000; font-style: italic\">shear</span>=<span style=\"font-weight: bold\">[</span><span style=\"color: #000080; font-weight: bold\">0.0</span>, <span style=\"color: #000080; font-weight: bold\">0.0</span><span style=\"font-weight: bold\">]</span>,\n",
       "        <span style=\"font-weight: bold\">)</span>,\n",
       "        <span style=\"color: #808000; font-style: italic\">h_flip</span>=<span style=\"color: #800080\">RandomHorizontalFlip</span><span style=\"font-weight: bold\">(</span><span style=\"color: #808000; font-style: italic\">p</span>=<span style=\"color: #000080; font-weight: bold\">0</span><span style=\"font-weight: bold\">)</span>,\n",
       "        <span style=\"color: #808000; font-style: italic\">v_flip</span>=<span style=\"color: #800080\">RandomVerticalFlip</span><span style=\"font-weight: bold\">(</span><span style=\"color: #808000; font-style: italic\">p</span>=<span style=\"color: #000080; font-weight: bold\">1</span><span style=\"font-weight: bold\">)</span>,\n",
       "        <span style=\"color: #808000; font-style: italic\">cutout</span>=<span style=\"color: #800080\">RandomErasing</span><span style=\"font-weight: bold\">()</span>,\n",
       "        <span style=\"color: #808000; font-style: italic\">jitter</span>=<span style=\"color: #800080\">ColorJitter</span><span style=\"font-weight: bold\">(</span>\n",
       "            <span style=\"color: #808000; font-style: italic\">brightness</span>=<span style=\"font-weight: bold\">[</span><span style=\"color: #000080; font-weight: bold\">0.0</span>, <span style=\"color: #000080; font-weight: bold\">16.38613771376712</span><span style=\"font-weight: bold\">]</span>,\n",
       "            <span style=\"color: #808000; font-style: italic\">contrast</span>=<span style=\"font-weight: bold\">[</span><span style=\"color: #000080; font-weight: bold\">0.0</span>, <span style=\"color: #000080; font-weight: bold\">16.09518635631407</span><span style=\"font-weight: bold\">]</span>,\n",
       "            <span style=\"color: #808000; font-style: italic\">saturation</span>=<span style=\"font-weight: bold\">[</span><span style=\"color: #000080; font-weight: bold\">0.0</span>, <span style=\"color: #000080; font-weight: bold\">9.07588862214572</span><span style=\"font-weight: bold\">]</span>,\n",
       "            <span style=\"color: #808000; font-style: italic\">hue</span>=<span style=\"color: #800080; font-style: italic\">None</span>,\n",
       "        <span style=\"font-weight: bold\">)</span>,\n",
       "        <span style=\"color: #808000; font-style: italic\">norm</span>=<span style=\"color: #00ff00; font-style: italic\">True</span>,\n",
       "        <span style=\"color: #808000; font-style: italic\">crop</span>=<span style=\"color: #ff0000; font-style: italic\">False</span>,\n",
       "    <span style=\"font-weight: bold\">)</span>,\n",
       "    <span style=\"color: #808000; font-style: italic\">pdarts</span>=<span style=\"color: #800080\">PDarts</span><span style=\"font-weight: bold\">(</span>\n",
       "        <span style=\"color: #808000; font-style: italic\">momentum</span>=<span style=\"color: #000080; font-weight: bold\">0.8249471723069418</span>,\n",
       "        <span style=\"color: #808000; font-style: italic\">weight_decay</span>=<span style=\"color: #000080; font-weight: bold\">3e-10</span>,\n",
       "        <span style=\"color: #808000; font-style: italic\">arch_weight_decay</span>=<span style=\"color: #000080; font-weight: bold\">3e-10</span>,\n",
       "        <span style=\"color: #808000; font-style: italic\">epochs</span>=<span style=\"color: #000080; font-weight: bold\">25</span>,\n",
       "        <span style=\"color: #808000; font-style: italic\">warmup_epochs</span>=<span style=\"color: #000080; font-weight: bold\">9</span>,\n",
       "        <span style=\"color: #808000; font-style: italic\">init_channels</span>=<span style=\"color: #000080; font-weight: bold\">19</span>,\n",
       "        <span style=\"color: #808000; font-style: italic\">layers</span>=<span style=\"color: #000080; font-weight: bold\">2</span>,\n",
       "        <span style=\"color: #808000; font-style: italic\">grad_clip</span>=<span style=\"color: #000080; font-weight: bold\">1.0</span>,\n",
       "        <span style=\"color: #808000; font-style: italic\">dropout_rate</span>=<span style=\"color: #000080; font-weight: bold\">0.797230043539778</span>,\n",
       "        <span style=\"color: #808000; font-style: italic\">arch_dropout_rate</span>=<span style=\"color: #000080; font-weight: bold\">0.28685381625544604</span>,\n",
       "        <span style=\"color: #808000; font-style: italic\">learning_rate</span>=<span style=\"color: #000080; font-weight: bold\">0.0001</span>,\n",
       "        <span style=\"color: #808000; font-style: italic\">arch_learning_rate</span>=<span style=\"color: #000080; font-weight: bold\">0.0001</span>,\n",
       "        <span style=\"color: #808000; font-style: italic\">learning_rate_min</span>=<span style=\"color: #000080; font-weight: bold\">0.0005766420263551893</span>,\n",
       "    <span style=\"font-weight: bold\">)</span>,\n",
       "    <span style=\"color: #808000; font-style: italic\">batch_size</span>=<span style=\"color: #000080; font-weight: bold\">96</span>,\n",
       "<span style=\"font-weight: bold\">)</span>\n",
       "</pre>\n"
      ],
      "text/plain": [
       "<rich.jupyter.JupyterRenderable at 0x14d6f5cc6190>"
      ]
     },
     "metadata": {},
     "output_type": "display_data"
    },
    {
     "name": "stdout",
     "output_type": "stream",
     "text": [
      "[ColorJitter(brightness=[0.0, 16.38613771376712], contrast=[0.0, 16.09518635631407], saturation=[0.0, 9.07588862214572], hue=None), ToTensor(), Normalize(mean=tensor([[[0.4809]],\n",
      "\n",
      "        [[0.4809]],\n",
      "\n",
      "        [[0.4809]]]), std=tensor([[[0.2392]],\n",
      "\n",
      "        [[0.2392]],\n",
      "\n",
      "        [[0.2392]]]))]\n",
      "epoch_duration=131.69015669822693: epoch=0 train_acc=13.335999563293457\n",
      "epoch_duration=131.8294894695282: epoch=1 train_acc=17.523999367370607\n",
      "epoch_duration=131.80550169944763: epoch=2 train_acc=18.97399931274414\n",
      "epoch_duration=131.8169984817505: epoch=3 train_acc=19.951999295043944\n",
      "epoch_duration=131.8543462753296: epoch=4 train_acc=20.531999306640625\n",
      "epoch_duration=131.85515785217285: epoch=5 train_acc=21.175999299316405\n",
      "epoch_duration=131.86792063713074: epoch=6 train_acc=21.921999279174806\n",
      "epoch_duration=131.79503798484802: epoch=7 train_acc=22.89199928100586\n",
      "epoch_duration=131.87394094467163: epoch=8 train_acc=23.3119992388916\n",
      "epoch_duration=242.83821392059326: epoch=9 train_acc=24.453999140625\n",
      "epoch_duration=242.94136667251587: epoch=10 train_acc=24.76999915222168\n",
      "epoch_duration=242.94728803634644: epoch=11 train_acc=25.96199905456543\n",
      "epoch_duration=242.75995469093323: epoch=12 train_acc=26.413999010009764\n",
      "epoch_duration=242.88881731033325: epoch=13 train_acc=27.317998925170897\n",
      "epoch_duration=242.83849263191223: epoch=14 train_acc=27.847998888549803\n",
      "epoch_duration=242.86773133277893: epoch=15 train_acc=28.467998818969726\n",
      "epoch_duration=242.94156765937805: epoch=16 train_acc=29.053998787841795\n"
     ]
    }
   ],
   "source": [
    "search_pe = PESearch(\n",
    "    grammar, \n",
    "    evaluate, \n",
    "    pop_size=10, \n",
    "    evaluation_timeout=0,\n",
    "    memory_limit=0,\n",
    "    search_timeout=0\n",
    ")\n",
    "best_pe, best_fn_pe = search_pe.run(100, logger=RichLogger())"
   ]
  },
  {
   "cell_type": "code",
   "execution_count": null,
   "id": "a1207df2",
   "metadata": {},
   "outputs": [
    {
     "data": {
      "application/vnd.jupyter.widget-view+json": {
       "model_id": "20b0dc1ad5094a95bbe733ff4d58ae06",
       "version_major": 2,
       "version_minor": 0
      },
      "text/plain": [
       "Output()"
      ]
     },
     "metadata": {},
     "output_type": "display_data"
    },
    {
     "data": {
      "text/html": [
       "<pre style=\"white-space:pre;overflow-x:auto;line-height:normal;font-family:Menlo,'DejaVu Sans Mono',consolas,'Courier New',monospace\"><span style=\"color: #000080\">────────────────────────────────────── </span>Search starting<span style=\"color: #000080\"> ──────────────────────────────────────</span>\n",
       "</pre>\n"
      ],
      "text/plain": [
       "<rich.jupyter.JupyterRenderable at 0x1460e51bb970>"
      ]
     },
     "metadata": {},
     "output_type": "display_data"
    },
    {
     "data": {
      "text/html": [
       "<pre style=\"white-space:pre;overflow-x:auto;line-height:normal;font-family:Menlo,'DejaVu Sans Mono',consolas,'Courier New',monospace\"><span style=\"color: #00ff00\">──────────────────────────────────── </span>Evaluating pipeline<span style=\"color: #00ff00\"> ────────────────────────────────────</span>\n",
       "</pre>\n"
      ],
      "text/plain": [
       "<rich.jupyter.JupyterRenderable at 0x1460e50fb3d0>"
      ]
     },
     "metadata": {},
     "output_type": "display_data"
    },
    {
     "data": {
      "text/html": [
       "<pre style=\"white-space:pre;overflow-x:auto;line-height:normal;font-family:Menlo,'DejaVu Sans Mono',consolas,'Courier New',monospace\">Pipeline<span style=\"font-weight: bold\">(</span>\n",
       "    <span style=\"color: #808000; font-style: italic\">preprocessing</span>=<span style=\"color: #800080\">Preprocessor</span><span style=\"font-weight: bold\">(</span>\n",
       "        <span style=\"color: #808000; font-style: italic\">blur</span>=<span style=\"color: #800080\">GaussianBlur</span><span style=\"font-weight: bold\">(</span><span style=\"color: #808000; font-style: italic\">kernel_size</span>=<span style=\"font-weight: bold\">(</span><span style=\"color: #000080; font-weight: bold\">41</span>, <span style=\"color: #000080; font-weight: bold\">41</span><span style=\"font-weight: bold\">)</span>, <span style=\"color: #808000; font-style: italic\">sigma</span>=<span style=\"font-weight: bold\">(</span><span style=\"color: #000080; font-weight: bold\">0.1</span>, <span style=\"color: #000080; font-weight: bold\">0.1</span><span style=\"font-weight: bold\">))</span>,\n",
       "        <span style=\"color: #808000; font-style: italic\">affine</span>=<span style=\"color: #800080\">RandomAffine</span><span style=\"font-weight: bold\">(</span>\n",
       "            <span style=\"color: #808000; font-style: italic\">degrees</span>=<span style=\"font-weight: bold\">[</span><span style=\"color: #000080; font-weight: bold\">-318.2468422829071</span>, <span style=\"color: #000080; font-weight: bold\">318.2468422829071</span><span style=\"font-weight: bold\">]</span>,\n",
       "            <span style=\"color: #808000; font-style: italic\">translate</span>=<span style=\"font-weight: bold\">(</span><span style=\"color: #000080; font-weight: bold\">0</span>, <span style=\"color: #000080; font-weight: bold\">1</span><span style=\"font-weight: bold\">)</span>,\n",
       "            <span style=\"color: #808000; font-style: italic\">scale</span>=<span style=\"font-weight: bold\">(</span><span style=\"color: #000080; font-weight: bold\">0.3870768972079144</span>, <span style=\"color: #000080; font-weight: bold\">1.3870768972079144</span><span style=\"font-weight: bold\">)</span>,\n",
       "            <span style=\"color: #808000; font-style: italic\">shear</span>=<span style=\"font-weight: bold\">[</span><span style=\"color: #000080; font-weight: bold\">-360.0</span>, <span style=\"color: #000080; font-weight: bold\">360.0</span><span style=\"font-weight: bold\">]</span>,\n",
       "        <span style=\"font-weight: bold\">)</span>,\n",
       "        <span style=\"color: #808000; font-style: italic\">h_flip</span>=<span style=\"color: #800080\">RandomHorizontalFlip</span><span style=\"font-weight: bold\">(</span><span style=\"color: #808000; font-style: italic\">p</span>=<span style=\"color: #000080; font-weight: bold\">0</span><span style=\"font-weight: bold\">)</span>,\n",
       "        <span style=\"color: #808000; font-style: italic\">v_flip</span>=<span style=\"color: #800080\">RandomVerticalFlip</span><span style=\"font-weight: bold\">(</span><span style=\"color: #808000; font-style: italic\">p</span>=<span style=\"color: #000080; font-weight: bold\">0.8543137918129635</span><span style=\"font-weight: bold\">)</span>,\n",
       "        <span style=\"color: #808000; font-style: italic\">cutout</span>=<span style=\"color: #800080\">RandomErasing</span><span style=\"font-weight: bold\">()</span>,\n",
       "        <span style=\"color: #808000; font-style: italic\">jitter</span>=<span style=\"color: #800080\">ColorJitter</span><span style=\"font-weight: bold\">(</span>\n",
       "            <span style=\"color: #808000; font-style: italic\">brightness</span>=<span style=\"font-weight: bold\">[</span><span style=\"color: #000080; font-weight: bold\">0.0</span>, <span style=\"color: #000080; font-weight: bold\">4.160137875110987</span><span style=\"font-weight: bold\">]</span>,\n",
       "            <span style=\"color: #808000; font-style: italic\">contrast</span>=<span style=\"font-weight: bold\">[</span><span style=\"color: #000080; font-weight: bold\">0.0</span>, <span style=\"color: #000080; font-weight: bold\">8.557353596466971</span><span style=\"font-weight: bold\">]</span>,\n",
       "            <span style=\"color: #808000; font-style: italic\">saturation</span>=<span style=\"color: #800080; font-style: italic\">None</span>,\n",
       "            <span style=\"color: #808000; font-style: italic\">hue</span>=<span style=\"font-weight: bold\">[</span><span style=\"color: #000080; font-weight: bold\">-0.15861161390109701</span>, <span style=\"color: #000080; font-weight: bold\">0.15861161390109701</span><span style=\"font-weight: bold\">]</span>,\n",
       "        <span style=\"font-weight: bold\">)</span>,\n",
       "        <span style=\"color: #808000; font-style: italic\">norm</span>=<span style=\"color: #00ff00; font-style: italic\">True</span>,\n",
       "        <span style=\"color: #808000; font-style: italic\">crop</span>=<span style=\"color: #ff0000; font-style: italic\">False</span>,\n",
       "    <span style=\"font-weight: bold\">)</span>,\n",
       "    <span style=\"color: #808000; font-style: italic\">pdarts</span>=<span style=\"color: #800080\">PDarts</span><span style=\"font-weight: bold\">(</span>\n",
       "        <span style=\"color: #808000; font-style: italic\">momentum</span>=<span style=\"color: #000080; font-weight: bold\">0.42735831389580514</span>,\n",
       "        <span style=\"color: #808000; font-style: italic\">weight_decay</span>=<span style=\"color: #000080; font-weight: bold\">0.003</span>,\n",
       "        <span style=\"color: #808000; font-style: italic\">arch_weight_decay</span>=<span style=\"color: #000080; font-weight: bold\">3e-10</span>,\n",
       "        <span style=\"color: #808000; font-style: italic\">epochs</span>=<span style=\"color: #000080; font-weight: bold\">25</span>,\n",
       "        <span style=\"color: #808000; font-style: italic\">warmup_epochs</span>=<span style=\"color: #000080; font-weight: bold\">5</span>,\n",
       "        <span style=\"color: #808000; font-style: italic\">init_channels</span>=<span style=\"color: #000080; font-weight: bold\">27</span>,\n",
       "        <span style=\"color: #808000; font-style: italic\">layers</span>=<span style=\"color: #000080; font-weight: bold\">2</span>,\n",
       "        <span style=\"color: #808000; font-style: italic\">grad_clip</span>=<span style=\"color: #000080; font-weight: bold\">0.6718742494201692</span>,\n",
       "        <span style=\"color: #808000; font-style: italic\">dropout_rate</span>=<span style=\"color: #000080; font-weight: bold\">0.8</span>,\n",
       "        <span style=\"color: #808000; font-style: italic\">arch_dropout_rate</span>=<span style=\"color: #000080; font-weight: bold\">0.0</span>,\n",
       "        <span style=\"color: #808000; font-style: italic\">learning_rate</span>=<span style=\"color: #000080; font-weight: bold\">0.1</span>,\n",
       "        <span style=\"color: #808000; font-style: italic\">arch_learning_rate</span>=<span style=\"color: #000080; font-weight: bold\">0.0001</span>,\n",
       "        <span style=\"color: #808000; font-style: italic\">learning_rate_min</span>=<span style=\"color: #000080; font-weight: bold\">0.01</span>,\n",
       "    <span style=\"font-weight: bold\">)</span>,\n",
       "    <span style=\"color: #808000; font-style: italic\">batch_size</span>=<span style=\"color: #000080; font-weight: bold\">96</span>,\n",
       "<span style=\"font-weight: bold\">)</span>\n",
       "</pre>\n"
      ],
      "text/plain": [
       "<rich.jupyter.JupyterRenderable at 0x1460d3e71490>"
      ]
     },
     "metadata": {},
     "output_type": "display_data"
    },
    {
     "name": "stdout",
     "output_type": "stream",
     "text": [
      "[RandomHorizontalFlip(p=0), RandomVerticalFlip(p=0.8543137918129635), ToTensor(), RandomErasing(), Normalize(mean=tensor([[[0.4809]],\n",
      "\n",
      "        [[0.4809]],\n",
      "\n",
      "        [[0.4809]]]), std=tensor([[[0.2392]],\n",
      "\n",
      "        [[0.2392]],\n",
      "\n",
      "        [[0.2392]]]))]\n",
      "epoch_duration=150.38011384010315: epoch=0 train_acc=40.9639986541748\n",
      "epoch_duration=148.65989422798157: epoch=1 train_acc=50.79599822998047\n",
      "epoch_duration=148.70603108406067: epoch=2 train_acc=55.287997634277346\n",
      "epoch_duration=148.71384239196777: epoch=3 train_acc=58.923997517089845\n",
      "epoch_duration=148.70021629333496: epoch=4 train_acc=61.90799733642578\n",
      "epoch_duration=284.1870868206024: epoch=5 train_acc=64.08799727539062\n",
      "epoch_duration=295.9211778640747: epoch=6 train_acc=66.12599732910157\n",
      "epoch_duration=295.7795457839966: epoch=7 train_acc=68.36399726806641\n",
      "epoch_duration=291.3891179561615: epoch=8 train_acc=69.56999748046876\n",
      "epoch_duration=287.986878156662: epoch=9 train_acc=70.11399754882812\n",
      "epoch_duration=284.2528109550476: epoch=10 train_acc=71.4379975366211\n",
      "epoch_duration=284.2827637195587: epoch=11 train_acc=72.37199742919923\n",
      "epoch_duration=294.57846426963806: epoch=12 train_acc=73.0179974633789\n",
      "epoch_duration=296.62076449394226: epoch=13 train_acc=73.92999758300782\n",
      "epoch_duration=295.2988951206207: epoch=14 train_acc=74.74199753173828\n",
      "epoch_duration=294.26331400871277: epoch=15 train_acc=75.47999752441406\n",
      "epoch_duration=294.04307222366333: epoch=16 train_acc=76.411997421875\n",
      "epoch_duration=292.52903294563293: epoch=17 train_acc=77.05799747314452\n",
      "epoch_duration=290.34104585647583: epoch=18 train_acc=77.80999753173828\n",
      "epoch_duration=285.31711888313293: epoch=19 train_acc=78.21199741699219\n",
      "epoch_duration=283.97768545150757: epoch=20 train_acc=79.0219974609375\n",
      "epoch_duration=287.69867730140686: epoch=21 train_acc=79.36599735839843\n",
      "epoch_duration=291.420951128006: epoch=22 train_acc=79.57999747070312\n",
      "epoch_duration=291.81404852867126: epoch=23 train_acc=80.08999752441406\n",
      "epoch_duration=291.31963992118835: epoch=24 train_acc=80.28399774414062\n",
      "epoch_duration=171.79704093933105: epoch=0 train_acc=41.72799864318848\n",
      "epoch_duration=171.973064661026: epoch=1 train_acc=52.23199807128906\n",
      "epoch_duration=171.18722891807556: epoch=2 train_acc=56.675997592773435\n",
      "epoch_duration=170.83138585090637: epoch=3 train_acc=60.22599750976563\n",
      "epoch_duration=170.20009899139404: epoch=4 train_acc=63.51199736572266\n",
      "epoch_duration=323.6852979660034: epoch=5 train_acc=65.59599751464843\n",
      "epoch_duration=323.8189363479614: epoch=6 train_acc=67.96399729980469\n",
      "epoch_duration=323.65807604789734: epoch=7 train_acc=70.00999746826172\n",
      "epoch_duration=323.6119167804718: epoch=8 train_acc=71.1399973828125\n",
      "epoch_duration=323.84557580947876: epoch=9 train_acc=72.15199740722656\n",
      "epoch_duration=323.64865589141846: epoch=10 train_acc=73.43999744384766\n",
      "epoch_duration=323.71295166015625: epoch=11 train_acc=74.22199747802735\n",
      "epoch_duration=323.77004623413086: epoch=12 train_acc=75.07199754882812\n",
      "epoch_duration=323.89525628089905: epoch=13 train_acc=75.78799753417968\n",
      "epoch_duration=324.04536986351013: epoch=14 train_acc=76.72599734863282\n",
      "epoch_duration=323.83634209632874: epoch=15 train_acc=77.21399748046875\n",
      "epoch_duration=323.58869910240173: epoch=16 train_acc=77.89599751708984\n",
      "epoch_duration=323.7120900154114: epoch=17 train_acc=79.00399747558593\n",
      "epoch_duration=323.5804982185364: epoch=18 train_acc=79.44599744873047\n",
      "epoch_duration=323.559015750885: epoch=19 train_acc=79.93799743164062\n",
      "epoch_duration=323.5632860660553: epoch=20 train_acc=81.00999756347656\n",
      "epoch_duration=323.5916872024536: epoch=21 train_acc=81.44599735839844\n",
      "epoch_duration=323.4790053367615: epoch=22 train_acc=81.90999756347657\n",
      "epoch_duration=323.67684626579285: epoch=23 train_acc=82.0439975\n",
      "epoch_duration=323.751855134964: epoch=24 train_acc=82.15799758300781\n",
      "epoch_duration=141.83906745910645: epoch=0 train_acc=41.111998647460936\n",
      "epoch_duration=141.6511573791504: epoch=1 train_acc=53.58799785644531\n",
      "epoch_duration=141.7031810283661: epoch=2 train_acc=58.659997419433594\n",
      "epoch_duration=141.6355049610138: epoch=3 train_acc=62.89599741699219\n",
      "epoch_duration=141.614666223526: epoch=4 train_acc=66.40999751220703\n",
      "epoch_duration=271.9901123046875: epoch=5 train_acc=68.22799734375\n",
      "epoch_duration=271.9907636642456: epoch=6 train_acc=70.62999744628907\n",
      "epoch_duration=271.89847779273987: epoch=7 train_acc=72.71799748046875\n",
      "epoch_duration=271.8426287174225: epoch=8 train_acc=74.35199752929688\n",
      "epoch_duration=271.7160007953644: epoch=9 train_acc=75.305997421875\n",
      "epoch_duration=271.9072034358978: epoch=10 train_acc=76.26199732421875\n",
      "epoch_duration=272.03598284721375: epoch=11 train_acc=77.04199762207031\n",
      "epoch_duration=272.3008496761322: epoch=12 train_acc=77.84999740722657\n",
      "epoch_duration=272.48054599761963: epoch=13 train_acc=78.81399765625\n",
      "epoch_duration=272.0357174873352: epoch=14 train_acc=79.73399741210937\n",
      "epoch_duration=272.0224130153656: epoch=15 train_acc=80.4239974658203\n",
      "epoch_duration=271.8632128238678: epoch=16 train_acc=81.33599747558594\n",
      "epoch_duration=271.77395963668823: epoch=17 train_acc=82.22599750488281\n",
      "epoch_duration=271.73431944847107: epoch=18 train_acc=83.12199744628906\n",
      "epoch_duration=271.8286693096161: epoch=19 train_acc=83.92399729003907\n",
      "epoch_duration=271.9850420951843: epoch=20 train_acc=84.4279976123047\n",
      "epoch_duration=271.9488272666931: epoch=21 train_acc=85.14999743652344\n",
      "epoch_duration=271.7759075164795: epoch=22 train_acc=85.70999742675781\n",
      "epoch_duration=271.8277144432068: epoch=23 train_acc=86.23599736816406\n",
      "epoch_duration=271.84433817863464: epoch=24 train_acc=86.48399730957031\n",
      "Genotype(normal=[('sep_conv_3x3', 0), ('dil_conv_3x3', 0), ('none', 1), ('max_pool_3x3', 1), ('max_pool_3x3', 0), ('dil_conv_5x5', 0), ('skip_connect', 2), ('dil_conv_3x3', 2), ('sep_conv_5x5', 0), ('sep_conv_7x7', 0), ('sep_conv_5x5', 1), ('dil_conv_3x3', 1), ('none', 2), ('dil_conv_5x5', 2), ('sep_conv_5x5', 4), ('dil_conv_3x3', 4)], normal_concat=range(2, 6), reduce=[('max_pool_3x3', 0), ('sep_conv_5x5', 0), ('avg_pool_3x3', 1), ('max_pool_3x3', 1), ('none', 1), ('max_pool_3x3', 1), ('skip_connect', 2), ('dil_conv_3x3', 2), ('none', 1), ('max_pool_3x3', 1), ('skip_connect', 2), ('dil_conv_5x5', 2), ('max_pool_3x3', 1), ('sep_conv_3x3', 1), ('none', 3), ('dil_conv_5x5', 3)], reduce_concat=range(2, 6))\n"
     ]
    },
    {
     "data": {
      "text/html": [
       "<pre style=\"white-space:pre;overflow-x:auto;line-height:normal;font-family:Menlo,'DejaVu Sans Mono',consolas,'Courier New',monospace\">╭───────────────────────────────────────────────────────────────────────────────────────────╮\n",
       "│📈 Fitness=<span style=\"color: #000080\">65.920</span>                                                                          │\n",
       "╰───────────────────────────────────────────────────────────────────────────────────────────╯\n",
       "</pre>\n"
      ],
      "text/plain": [
       "<rich.jupyter.JupyterRenderable at 0x1460e50fb2b0>"
      ]
     },
     "metadata": {},
     "output_type": "display_data"
    },
    {
     "data": {
      "text/html": [
       "<pre style=\"white-space:pre;overflow-x:auto;line-height:normal;font-family:Menlo,'DejaVu Sans Mono',consolas,'Courier New',monospace\">╭───────────────────────────────────────────────────────────────────────────────────────────╮\n",
       "│🔥 Best improved from <span style=\"color: #800000; font-weight: bold\">0.000</span> to <span style=\"color: #008000; font-weight: bold\">65.920</span>                                                      │\n",
       "╰───────────────────────────────────────────────────────────────────────────────────────────╯\n",
       "</pre>\n"
      ],
      "text/plain": [
       "<rich.jupyter.JupyterRenderable at 0x1460e50fbeb0>"
      ]
     },
     "metadata": {},
     "output_type": "display_data"
    },
    {
     "data": {
      "text/html": [
       "<pre style=\"white-space:pre;overflow-x:auto;line-height:normal;font-family:Menlo,'DejaVu Sans Mono',consolas,'Courier New',monospace\"><span style=\"color: #00ff00\">──────────────────────────────────── </span>Evaluating pipeline<span style=\"color: #00ff00\"> ────────────────────────────────────</span>\n",
       "</pre>\n"
      ],
      "text/plain": [
       "<rich.jupyter.JupyterRenderable at 0x1460d3eeb610>"
      ]
     },
     "metadata": {},
     "output_type": "display_data"
    },
    {
     "data": {
      "text/html": [
       "<pre style=\"white-space:pre;overflow-x:auto;line-height:normal;font-family:Menlo,'DejaVu Sans Mono',consolas,'Courier New',monospace\">Pipeline<span style=\"font-weight: bold\">(</span>\n",
       "    <span style=\"color: #808000; font-style: italic\">preprocessing</span>=<span style=\"color: #800080\">Preprocessor</span><span style=\"font-weight: bold\">(</span>\n",
       "        <span style=\"color: #808000; font-style: italic\">blur</span>=<span style=\"color: #800080\">GaussianBlur</span><span style=\"font-weight: bold\">(</span><span style=\"color: #808000; font-style: italic\">kernel_size</span>=<span style=\"font-weight: bold\">(</span><span style=\"color: #000080; font-weight: bold\">3</span>, <span style=\"color: #000080; font-weight: bold\">3</span><span style=\"font-weight: bold\">)</span>, <span style=\"color: #808000; font-style: italic\">sigma</span>=<span style=\"font-weight: bold\">(</span><span style=\"color: #000080; font-weight: bold\">0.1</span>, <span style=\"color: #000080; font-weight: bold\">0.1</span><span style=\"font-weight: bold\">))</span>,\n",
       "        <span style=\"color: #808000; font-style: italic\">affine</span>=<span style=\"color: #800080\">RandomAffine</span><span style=\"font-weight: bold\">(</span>\n",
       "            <span style=\"color: #808000; font-style: italic\">degrees</span>=<span style=\"font-weight: bold\">[</span><span style=\"color: #000080; font-weight: bold\">-69.9940109351292</span>, <span style=\"color: #000080; font-weight: bold\">69.9940109351292</span><span style=\"font-weight: bold\">]</span>,\n",
       "            <span style=\"color: #808000; font-style: italic\">translate</span>=<span style=\"font-weight: bold\">(</span><span style=\"color: #000080; font-weight: bold\">0.7419024455799804</span>, <span style=\"color: #000080; font-weight: bold\">1</span><span style=\"font-weight: bold\">)</span>,\n",
       "            <span style=\"color: #808000; font-style: italic\">scale</span>=<span style=\"font-weight: bold\">(</span><span style=\"color: #000080; font-weight: bold\">0.13169620294844503</span>, <span style=\"color: #000080; font-weight: bold\">10.131696202948445</span><span style=\"font-weight: bold\">)</span>,\n",
       "            <span style=\"color: #808000; font-style: italic\">shear</span>=<span style=\"font-weight: bold\">[</span><span style=\"color: #000080; font-weight: bold\">0.0</span>, <span style=\"color: #000080; font-weight: bold\">0.0</span><span style=\"font-weight: bold\">]</span>,\n",
       "        <span style=\"font-weight: bold\">)</span>,\n",
       "        <span style=\"color: #808000; font-style: italic\">h_flip</span>=<span style=\"color: #800080\">RandomHorizontalFlip</span><span style=\"font-weight: bold\">(</span><span style=\"color: #808000; font-style: italic\">p</span>=<span style=\"color: #000080; font-weight: bold\">0.9554002659564316</span><span style=\"font-weight: bold\">)</span>,\n",
       "        <span style=\"color: #808000; font-style: italic\">v_flip</span>=<span style=\"color: #800080\">RandomVerticalFlip</span><span style=\"font-weight: bold\">(</span><span style=\"color: #808000; font-style: italic\">p</span>=<span style=\"color: #000080; font-weight: bold\">0.8802569265793003</span><span style=\"font-weight: bold\">)</span>,\n",
       "        <span style=\"color: #808000; font-style: italic\">cutout</span>=<span style=\"color: #800080\">RandomErasing</span><span style=\"font-weight: bold\">()</span>,\n",
       "        <span style=\"color: #808000; font-style: italic\">jitter</span>=<span style=\"color: #800080\">ColorJitter</span><span style=\"font-weight: bold\">(</span>\n",
       "            <span style=\"color: #808000; font-style: italic\">brightness</span>=<span style=\"font-weight: bold\">[</span><span style=\"color: #000080; font-weight: bold\">0.0</span>, <span style=\"color: #000080; font-weight: bold\">14.342039494664462</span><span style=\"font-weight: bold\">]</span>,\n",
       "            <span style=\"color: #808000; font-style: italic\">contrast</span>=<span style=\"font-weight: bold\">[</span><span style=\"color: #000080; font-weight: bold\">0.0</span>, <span style=\"color: #000080; font-weight: bold\">12.917982230105087</span><span style=\"font-weight: bold\">]</span>,\n",
       "            <span style=\"color: #808000; font-style: italic\">saturation</span>=<span style=\"font-weight: bold\">[</span><span style=\"color: #000080; font-weight: bold\">0.0</span>, <span style=\"color: #000080; font-weight: bold\">15.945620632696592</span><span style=\"font-weight: bold\">]</span>,\n",
       "            <span style=\"color: #808000; font-style: italic\">hue</span>=<span style=\"color: #800080; font-style: italic\">None</span>,\n",
       "        <span style=\"font-weight: bold\">)</span>,\n",
       "        <span style=\"color: #808000; font-style: italic\">norm</span>=<span style=\"color: #00ff00; font-style: italic\">True</span>,\n",
       "        <span style=\"color: #808000; font-style: italic\">crop</span>=<span style=\"color: #00ff00; font-style: italic\">True</span>,\n",
       "    <span style=\"font-weight: bold\">)</span>,\n",
       "    <span style=\"color: #808000; font-style: italic\">pdarts</span>=<span style=\"color: #800080\">PDarts</span><span style=\"font-weight: bold\">(</span>\n",
       "        <span style=\"color: #808000; font-style: italic\">momentum</span>=<span style=\"color: #000080; font-weight: bold\">0.0</span>,\n",
       "        <span style=\"color: #808000; font-style: italic\">weight_decay</span>=<span style=\"color: #000080; font-weight: bold\">0.0001937334788167063</span>,\n",
       "        <span style=\"color: #808000; font-style: italic\">arch_weight_decay</span>=<span style=\"color: #000080; font-weight: bold\">0.003</span>,\n",
       "        <span style=\"color: #808000; font-style: italic\">epochs</span>=<span style=\"color: #000080; font-weight: bold\">25</span>,\n",
       "        <span style=\"color: #808000; font-style: italic\">warmup_epochs</span>=<span style=\"color: #000080; font-weight: bold\">8</span>,\n",
       "        <span style=\"color: #808000; font-style: italic\">init_channels</span>=<span style=\"color: #000080; font-weight: bold\">32</span>,\n",
       "        <span style=\"color: #808000; font-style: italic\">layers</span>=<span style=\"color: #000080; font-weight: bold\">2</span>,\n",
       "        <span style=\"color: #808000; font-style: italic\">grad_clip</span>=<span style=\"color: #000080; font-weight: bold\">1.0</span>,\n",
       "        <span style=\"color: #808000; font-style: italic\">dropout_rate</span>=<span style=\"color: #000080; font-weight: bold\">0.0</span>,\n",
       "        <span style=\"color: #808000; font-style: italic\">arch_dropout_rate</span>=<span style=\"color: #000080; font-weight: bold\">0.16421384189605176</span>,\n",
       "        <span style=\"color: #808000; font-style: italic\">learning_rate</span>=<span style=\"color: #000080; font-weight: bold\">0.0001</span>,\n",
       "        <span style=\"color: #808000; font-style: italic\">arch_learning_rate</span>=<span style=\"color: #000080; font-weight: bold\">0.02371253439795401</span>,\n",
       "        <span style=\"color: #808000; font-style: italic\">learning_rate_min</span>=<span style=\"color: #000080; font-weight: bold\">0.0001</span>,\n",
       "    <span style=\"font-weight: bold\">)</span>,\n",
       "    <span style=\"color: #808000; font-style: italic\">batch_size</span>=<span style=\"color: #000080; font-weight: bold\">84</span>,\n",
       "<span style=\"font-weight: bold\">)</span>\n",
       "</pre>\n"
      ],
      "text/plain": [
       "<rich.jupyter.JupyterRenderable at 0x1460e50fb880>"
      ]
     },
     "metadata": {},
     "output_type": "display_data"
    },
    {
     "name": "stdout",
     "output_type": "stream",
     "text": [
      "[RandomVerticalFlip(p=0.8802569265793003), ToTensor(), Normalize(mean=tensor([[[0.4809]],\n",
      "\n",
      "        [[0.4809]],\n",
      "\n",
      "        [[0.4809]]]), std=tensor([[[0.2392]],\n",
      "\n",
      "        [[0.2392]],\n",
      "\n",
      "        [[0.2392]]]))]\n",
      "epoch_duration=169.28658080101013: epoch=0 train_acc=12.691999935112\n",
      "epoch_duration=169.2085657119751: epoch=1 train_acc=16.08199991519928\n",
      "epoch_duration=169.1651074886322: epoch=2 train_acc=18.347999861488343\n",
      "epoch_duration=169.25324034690857: epoch=3 train_acc=20.51399988052368\n",
      "epoch_duration=169.24076199531555: epoch=4 train_acc=22.311999889450075\n",
      "epoch_duration=169.2902216911316: epoch=5 train_acc=23.48399986907959\n",
      "epoch_duration=169.2399332523346: epoch=6 train_acc=24.349999813156128\n",
      "epoch_duration=169.22157192230225: epoch=7 train_acc=25.067999810638426\n",
      "epoch_duration=331.66094732284546: epoch=8 train_acc=25.06599984199524\n",
      "epoch_duration=331.56882190704346: epoch=9 train_acc=25.643999799194336\n",
      "epoch_duration=331.6984877586365: epoch=10 train_acc=26.233999814834593\n",
      "epoch_duration=331.7495436668396: epoch=11 train_acc=26.605999824447633\n",
      "epoch_duration=331.63375306129456: epoch=12 train_acc=27.16199974510193\n",
      "epoch_duration=331.66041016578674: epoch=13 train_acc=27.59399973213196\n",
      "epoch_duration=331.4952857494354: epoch=14 train_acc=28.15799968383789\n",
      "epoch_duration=331.7011799812317: epoch=15 train_acc=28.66199972755432\n",
      "epoch_duration=331.5437698364258: epoch=16 train_acc=28.789999630203248\n",
      "epoch_duration=331.5095293521881: epoch=17 train_acc=29.35799973815918\n",
      "epoch_duration=331.54454374313354: epoch=18 train_acc=29.749999593429564\n",
      "epoch_duration=331.8107976913452: epoch=19 train_acc=30.225999667358398\n",
      "epoch_duration=331.6171226501465: epoch=20 train_acc=30.56199962135315\n",
      "epoch_duration=331.66908264160156: epoch=21 train_acc=31.021999635009767\n",
      "epoch_duration=331.8945052623749: epoch=22 train_acc=31.503999656829833\n",
      "epoch_duration=331.56995248794556: epoch=23 train_acc=31.735999705810546\n",
      "epoch_duration=331.61111783981323: epoch=24 train_acc=31.935999600219727\n",
      "epoch_duration=198.5973448753357: epoch=0 train_acc=13.033999921894074\n",
      "epoch_duration=198.6176688671112: epoch=1 train_acc=16.48999987241745\n",
      "epoch_duration=198.60029649734497: epoch=2 train_acc=19.949999860305788\n",
      "epoch_duration=198.65468049049377: epoch=3 train_acc=22.53999985839844\n",
      "epoch_duration=198.73464274406433: epoch=4 train_acc=24.29799982246399\n",
      "epoch_duration=198.66277384757996: epoch=5 train_acc=25.58799980567932\n",
      "epoch_duration=198.682053565979: epoch=6 train_acc=26.473999810180665\n",
      "epoch_duration=198.64378595352173: epoch=7 train_acc=27.27799979598999\n",
      "epoch_duration=391.16227746009827: epoch=8 train_acc=27.261999718093872\n",
      "epoch_duration=391.2592017650604: epoch=9 train_acc=28.457999687423705\n",
      "epoch_duration=391.1985967159271: epoch=10 train_acc=28.9579996774292\n",
      "epoch_duration=390.9943253993988: epoch=11 train_acc=29.587999693908692\n",
      "epoch_duration=391.3384563922882: epoch=12 train_acc=30.137999633483886\n",
      "epoch_duration=391.47255969047546: epoch=13 train_acc=30.603999621276856\n",
      "epoch_duration=391.2743020057678: epoch=14 train_acc=31.233999608917237\n",
      "epoch_duration=391.4311890602112: epoch=15 train_acc=31.409999610443116\n",
      "epoch_duration=391.20478677749634: epoch=16 train_acc=31.741999652099608\n",
      "epoch_duration=391.08359360694885: epoch=17 train_acc=32.253999617614745\n",
      "epoch_duration=391.16792488098145: epoch=18 train_acc=32.39999963592529\n",
      "epoch_duration=391.133749961853: epoch=19 train_acc=32.653999649047854\n",
      "epoch_duration=391.21675872802734: epoch=20 train_acc=33.05999961105346\n",
      "epoch_duration=391.12765407562256: epoch=21 train_acc=33.49599959136963\n",
      "epoch_duration=391.1765863895416: epoch=22 train_acc=33.65399966995239\n",
      "epoch_duration=391.1147563457489: epoch=23 train_acc=34.04399957336426\n",
      "epoch_duration=391.3732199668884: epoch=24 train_acc=34.36199959152221\n",
      "epoch_duration=138.88832354545593: epoch=0 train_acc=12.529999934196471\n",
      "epoch_duration=138.96790170669556: epoch=1 train_acc=17.04599989639282\n",
      "epoch_duration=139.04663610458374: epoch=2 train_acc=20.267999851608277\n",
      "epoch_duration=138.97235321998596: epoch=3 train_acc=22.04999987472534\n",
      "epoch_duration=139.0469777584076: epoch=4 train_acc=23.457999827651978\n",
      "epoch_duration=139.0907919406891: epoch=5 train_acc=24.569999897994997\n",
      "epoch_duration=138.99274110794067: epoch=6 train_acc=25.469999812927245\n",
      "epoch_duration=139.08861374855042: epoch=7 train_acc=26.28599978790283\n",
      "epoch_duration=275.28867959976196: epoch=8 train_acc=26.60999976829529\n",
      "epoch_duration=274.97826981544495: epoch=9 train_acc=27.00799975730896\n",
      "epoch_duration=275.1425280570984: epoch=10 train_acc=28.043999727020264\n",
      "epoch_duration=275.19180822372437: epoch=11 train_acc=28.725999714508056\n",
      "epoch_duration=275.042439699173: epoch=12 train_acc=29.243999629821776\n",
      "epoch_duration=274.9672815799713: epoch=13 train_acc=29.807999653778076\n",
      "epoch_duration=275.12078833580017: epoch=14 train_acc=30.65599963241577\n",
      "epoch_duration=275.10874605178833: epoch=15 train_acc=31.139999666748047\n",
      "epoch_duration=275.1500930786133: epoch=16 train_acc=31.70399958847046\n",
      "epoch_duration=275.1894507408142: epoch=17 train_acc=31.949999612121584\n",
      "epoch_duration=275.1451344490051: epoch=18 train_acc=32.32999960647583\n",
      "epoch_duration=275.0457956790924: epoch=19 train_acc=32.86999957168579\n",
      "epoch_duration=275.0972685813904: epoch=20 train_acc=33.561999598388674\n",
      "epoch_duration=275.1998932361603: epoch=21 train_acc=33.589999604492185\n",
      "epoch_duration=275.2565948963165: epoch=22 train_acc=33.88999960769653\n",
      "epoch_duration=275.3060302734375: epoch=23 train_acc=34.28799959976196\n",
      "epoch_duration=275.3566863536835: epoch=24 train_acc=34.51599956558228\n",
      "Genotype(normal=[('max_pool_3x3', 0), ('skip_connect', 0), ('sep_conv_3x3', 1), ('sep_conv_5x5', 1), ('none', 1), ('avg_pool_3x3', 1), ('avg_pool_3x3', 2), ('skip_connect', 2), ('avg_pool_3x3', 2), ('skip_connect', 2), ('skip_connect', 3), ('sep_conv_5x5', 3), ('avg_pool_3x3', 1), ('sep_conv_5x5', 1), ('avg_pool_3x3', 4), ('sep_conv_5x5', 4)], normal_concat=range(2, 6), reduce=[('avg_pool_3x3', 0), ('max_pool_3x3', 0), ('none', 1), ('sep_conv_5x5', 1), ('none', 1), ('dil_conv_3x3', 1), ('none', 2), ('avg_pool_3x3', 2), ('max_pool_3x3', 1), ('dil_conv_3x3', 1), ('avg_pool_3x3', 2), ('sep_conv_3x3', 2), ('avg_pool_3x3', 2), ('skip_connect', 2), ('avg_pool_3x3', 4), ('skip_connect', 4)], reduce_concat=range(2, 6))\n"
     ]
    },
    {
     "data": {
      "text/html": [
       "<pre style=\"white-space:pre;overflow-x:auto;line-height:normal;font-family:Menlo,'DejaVu Sans Mono',consolas,'Courier New',monospace\">╭───────────────────────────────────────────────────────────────────────────────────────────╮\n",
       "│📈 Fitness=<span style=\"color: #000080\">25.080</span>                                                                          │\n",
       "╰───────────────────────────────────────────────────────────────────────────────────────────╯\n",
       "</pre>\n"
      ],
      "text/plain": [
       "<rich.jupyter.JupyterRenderable at 0x1460d3f37760>"
      ]
     },
     "metadata": {},
     "output_type": "display_data"
    },
    {
     "data": {
      "text/html": [
       "<pre style=\"white-space:pre;overflow-x:auto;line-height:normal;font-family:Menlo,'DejaVu Sans Mono',consolas,'Courier New',monospace\"><span style=\"color: #00ff00\">──────────────────────────────────── </span>Evaluating pipeline<span style=\"color: #00ff00\"> ────────────────────────────────────</span>\n",
       "</pre>\n"
      ],
      "text/plain": [
       "<rich.jupyter.JupyterRenderable at 0x1460d3e7f4c0>"
      ]
     },
     "metadata": {},
     "output_type": "display_data"
    },
    {
     "data": {
      "text/html": [
       "<pre style=\"white-space:pre;overflow-x:auto;line-height:normal;font-family:Menlo,'DejaVu Sans Mono',consolas,'Courier New',monospace\">Pipeline<span style=\"font-weight: bold\">(</span>\n",
       "    <span style=\"color: #808000; font-style: italic\">preprocessing</span>=<span style=\"color: #800080\">Preprocessor</span><span style=\"font-weight: bold\">(</span>\n",
       "        <span style=\"color: #808000; font-style: italic\">blur</span>=<span style=\"color: #800080\">GaussianBlur</span><span style=\"font-weight: bold\">(</span>\n",
       "            <span style=\"color: #808000; font-style: italic\">kernel_size</span>=<span style=\"font-weight: bold\">(</span><span style=\"color: #000080; font-weight: bold\">3</span>, <span style=\"color: #000080; font-weight: bold\">3</span><span style=\"font-weight: bold\">)</span>, <span style=\"color: #808000; font-style: italic\">sigma</span>=<span style=\"font-weight: bold\">(</span><span style=\"color: #000080; font-weight: bold\">0.5481817645755066</span>, <span style=\"color: #000080; font-weight: bold\">0.5481817645755066</span><span style=\"font-weight: bold\">)</span>\n",
       "        <span style=\"font-weight: bold\">)</span>,\n",
       "        <span style=\"color: #808000; font-style: italic\">affine</span>=<span style=\"color: #800080\">RandomAffine</span><span style=\"font-weight: bold\">(</span>\n",
       "            <span style=\"color: #808000; font-style: italic\">degrees</span>=<span style=\"font-weight: bold\">[</span><span style=\"color: #000080; font-weight: bold\">-328.37844104970964</span>, <span style=\"color: #000080; font-weight: bold\">328.37844104970964</span><span style=\"font-weight: bold\">]</span>,\n",
       "            <span style=\"color: #808000; font-style: italic\">translate</span>=<span style=\"font-weight: bold\">(</span><span style=\"color: #000080; font-weight: bold\">0</span>, <span style=\"color: #000080; font-weight: bold\">1</span><span style=\"font-weight: bold\">)</span>,\n",
       "            <span style=\"color: #808000; font-style: italic\">scale</span>=<span style=\"font-weight: bold\">(</span><span style=\"color: #000080; font-weight: bold\">0.15227564870127025</span>, <span style=\"color: #000080; font-weight: bold\">1.1522756487012702</span><span style=\"font-weight: bold\">)</span>,\n",
       "            <span style=\"color: #808000; font-style: italic\">shear</span>=<span style=\"font-weight: bold\">[</span><span style=\"color: #000080; font-weight: bold\">-139.43775619652158</span>, <span style=\"color: #000080; font-weight: bold\">139.43775619652158</span><span style=\"font-weight: bold\">]</span>,\n",
       "        <span style=\"font-weight: bold\">)</span>,\n",
       "        <span style=\"color: #808000; font-style: italic\">h_flip</span>=<span style=\"color: #800080\">RandomHorizontalFlip</span><span style=\"font-weight: bold\">(</span><span style=\"color: #808000; font-style: italic\">p</span>=<span style=\"color: #000080; font-weight: bold\">0</span><span style=\"font-weight: bold\">)</span>,\n",
       "        <span style=\"color: #808000; font-style: italic\">v_flip</span>=<span style=\"color: #800080\">RandomVerticalFlip</span><span style=\"font-weight: bold\">(</span><span style=\"color: #808000; font-style: italic\">p</span>=<span style=\"color: #000080; font-weight: bold\">0</span><span style=\"font-weight: bold\">)</span>,\n",
       "        <span style=\"color: #808000; font-style: italic\">cutout</span>=<span style=\"color: #800080\">RandomErasing</span><span style=\"font-weight: bold\">()</span>,\n",
       "        <span style=\"color: #808000; font-style: italic\">jitter</span>=<span style=\"color: #800080\">ColorJitter</span><span style=\"font-weight: bold\">(</span>\n",
       "            <span style=\"color: #808000; font-style: italic\">brightness</span>=<span style=\"font-weight: bold\">[</span><span style=\"color: #000080; font-weight: bold\">0.0</span>, <span style=\"color: #000080; font-weight: bold\">21.0</span><span style=\"font-weight: bold\">]</span>,\n",
       "            <span style=\"color: #808000; font-style: italic\">contrast</span>=<span style=\"font-weight: bold\">[</span><span style=\"color: #000080; font-weight: bold\">0.0</span>, <span style=\"color: #000080; font-weight: bold\">15.679679875856134</span><span style=\"font-weight: bold\">]</span>,\n",
       "            <span style=\"color: #808000; font-style: italic\">saturation</span>=<span style=\"font-weight: bold\">[</span><span style=\"color: #000080; font-weight: bold\">0.0</span>, <span style=\"color: #000080; font-weight: bold\">12.640618046888694</span><span style=\"font-weight: bold\">]</span>,\n",
       "            <span style=\"color: #808000; font-style: italic\">hue</span>=<span style=\"font-weight: bold\">[</span><span style=\"color: #000080; font-weight: bold\">-0.3697951946678491</span>, <span style=\"color: #000080; font-weight: bold\">0.3697951946678491</span><span style=\"font-weight: bold\">]</span>,\n",
       "        <span style=\"font-weight: bold\">)</span>,\n",
       "        <span style=\"color: #808000; font-style: italic\">norm</span>=<span style=\"color: #00ff00; font-style: italic\">True</span>,\n",
       "        <span style=\"color: #808000; font-style: italic\">crop</span>=<span style=\"color: #00ff00; font-style: italic\">True</span>,\n",
       "    <span style=\"font-weight: bold\">)</span>,\n",
       "    <span style=\"color: #808000; font-style: italic\">pdarts</span>=<span style=\"color: #800080\">PDarts</span><span style=\"font-weight: bold\">(</span>\n",
       "        <span style=\"color: #808000; font-style: italic\">momentum</span>=<span style=\"color: #000080; font-weight: bold\">1.0</span>,\n",
       "        <span style=\"color: #808000; font-style: italic\">weight_decay</span>=<span style=\"color: #000080; font-weight: bold\">3e-10</span>,\n",
       "        <span style=\"color: #808000; font-style: italic\">arch_weight_decay</span>=<span style=\"color: #000080; font-weight: bold\">0.003</span>,\n",
       "        <span style=\"color: #808000; font-style: italic\">epochs</span>=<span style=\"color: #000080; font-weight: bold\">25</span>,\n",
       "        <span style=\"color: #808000; font-style: italic\">warmup_epochs</span>=<span style=\"color: #000080; font-weight: bold\">10</span>,\n",
       "        <span style=\"color: #808000; font-style: italic\">init_channels</span>=<span style=\"color: #000080; font-weight: bold\">8</span>,\n",
       "        <span style=\"color: #808000; font-style: italic\">layers</span>=<span style=\"color: #000080; font-weight: bold\">3</span>,\n",
       "        <span style=\"color: #808000; font-style: italic\">grad_clip</span>=<span style=\"color: #000080; font-weight: bold\">0.9886106116880924</span>,\n",
       "        <span style=\"color: #808000; font-style: italic\">dropout_rate</span>=<span style=\"color: #000080; font-weight: bold\">0.0</span>,\n",
       "        <span style=\"color: #808000; font-style: italic\">arch_dropout_rate</span>=<span style=\"color: #000080; font-weight: bold\">1.0</span>,\n",
       "        <span style=\"color: #808000; font-style: italic\">learning_rate</span>=<span style=\"color: #000080; font-weight: bold\">0.0001</span>,\n",
       "        <span style=\"color: #808000; font-style: italic\">arch_learning_rate</span>=<span style=\"color: #000080; font-weight: bold\">0.04981410867120823</span>,\n",
       "        <span style=\"color: #808000; font-style: italic\">learning_rate_min</span>=<span style=\"color: #000080; font-weight: bold\">0.009736000637077118</span>,\n",
       "    <span style=\"font-weight: bold\">)</span>,\n",
       "    <span style=\"color: #808000; font-style: italic\">batch_size</span>=<span style=\"color: #000080; font-weight: bold\">82</span>,\n",
       "<span style=\"font-weight: bold\">)</span>\n",
       "</pre>\n"
      ],
      "text/plain": [
       "<rich.jupyter.JupyterRenderable at 0x1460d3e7fa30>"
      ]
     },
     "metadata": {},
     "output_type": "display_data"
    },
    {
     "name": "stdout",
     "output_type": "stream",
     "text": [
      "[ColorJitter(brightness=[0.0, 21.0], contrast=[0.0, 15.679679875856134], saturation=[0.0, 12.640618046888694], hue=[-0.3697951946678491, 0.3697951946678491]), ToTensor(), RandomErasing(), Normalize(mean=tensor([[[0.4809]],\n",
      "\n",
      "        [[0.4809]],\n",
      "\n",
      "        [[0.4809]]]), std=tensor([[[0.2392]],\n",
      "\n",
      "        [[0.2392]],\n",
      "\n",
      "        [[0.2392]]]))]\n",
      "epoch_duration=216.05628967285156: epoch=0 train_acc=14.970000309810638\n",
      "epoch_duration=217.9820592403412: epoch=1 train_acc=19.836000394935606\n"
     ]
    }
   ],
   "source": [
    "search_pe = PESearch(\n",
    "    grammar, \n",
    "    evaluate, \n",
    "    pop_size=10, \n",
    "    evaluation_timeout=0,\n",
    "    memory_limit=0,\n",
    "    search_timeout=0\n",
    ")\n",
    "best_pe, best_fn_pe = search_pe.run(100, logger=RichLogger())"
   ]
  },
  {
   "cell_type": "code",
   "execution_count": null,
   "id": "f6f0da3c",
   "metadata": {},
   "outputs": [],
   "source": []
  }
 ],
 "metadata": {
  "kernelspec": {
   "display_name": "Python 3",
   "language": "python",
   "name": "python3"
  },
  "language_info": {
   "codemirror_mode": {
    "name": "ipython",
    "version": 3
   },
   "file_extension": ".py",
   "mimetype": "text/x-python",
   "name": "python",
   "nbconvert_exporter": "python",
   "pygments_lexer": "ipython3",
   "version": "3.8.5"
  }
 },
 "nbformat": 4,
 "nbformat_minor": 5
}
